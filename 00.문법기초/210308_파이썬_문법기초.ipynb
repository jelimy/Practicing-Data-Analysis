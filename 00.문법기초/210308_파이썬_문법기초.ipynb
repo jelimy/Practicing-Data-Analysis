{
 "cells": [
  {
   "cell_type": "markdown",
   "metadata": {},
   "source": [
    "## 변수의 이해"
   ]
  },
  {
   "cell_type": "code",
   "execution_count": 4,
   "metadata": {},
   "outputs": [],
   "source": [
    "temp = 2"
   ]
  },
  {
   "cell_type": "code",
   "execution_count": 6,
   "metadata": {},
   "outputs": [
    {
     "name": "stdout",
     "output_type": "stream",
     "text": [
      "2\n"
     ]
    }
   ],
   "source": [
    "print(temp)"
   ]
  },
  {
   "cell_type": "code",
   "execution_count": 7,
   "metadata": {},
   "outputs": [
    {
     "name": "stdout",
     "output_type": "stream",
     "text": [
      "10\n"
     ]
    }
   ],
   "source": [
    "a=10\n",
    "print(a)"
   ]
  },
  {
   "cell_type": "code",
   "execution_count": 10,
   "metadata": {},
   "outputs": [
    {
     "name": "stdout",
     "output_type": "stream",
     "text": [
      "hello\n"
     ]
    }
   ],
   "source": [
    "b=\"hello\" #이것은 변수 b에 \"hello\"를 할당합니다.\n",
    "print(b)"
   ]
  },
  {
   "cell_type": "code",
   "execution_count": null,
   "metadata": {},
   "outputs": [],
   "source": []
  },
  {
   "cell_type": "markdown",
   "metadata": {},
   "source": [
    "## 변수이름 규칙"
   ]
  },
  {
   "cell_type": "markdown",
   "metadata": {},
   "source": [
    "1. 문자, 숫자, 밑줄 기호(_)를 사용\n",
    "    - myjob, myjob123, my_job123\n",
    "    - 한글"
   ]
  },
  {
   "cell_type": "code",
   "execution_count": 17,
   "metadata": {},
   "outputs": [],
   "source": [
    "파이썬 = 123 #한글은 오류가 날 수 있어서 많이 사용하지는 않는다."
   ]
  },
  {
   "cell_type": "code",
   "execution_count": 18,
   "metadata": {},
   "outputs": [
    {
     "data": {
      "text/plain": [
       "123"
      ]
     },
     "execution_count": 18,
     "metadata": {},
     "output_type": "execute_result"
    }
   ],
   "source": [
    "파이썬"
   ]
  },
  {
   "cell_type": "markdown",
   "metadata": {},
   "source": [
    "2. 첫자리에는 숫자를 사용할 수 없음\n",
    "    - 1myjob(X)"
   ]
  },
  {
   "cell_type": "markdown",
   "metadata": {},
   "source": [
    "3. 대소문자를 구분\n",
    "    - myjob, myJob, Myjob, MyJob"
   ]
  },
  {
   "cell_type": "markdown",
   "metadata": {},
   "source": [
    "4. 밑줄 이외의 기호는 변수이름에 사용할 수 없음\n",
    "    - my%job(X)"
   ]
  },
  {
   "cell_type": "markdown",
   "metadata": {},
   "source": [
    "5. 파이썬 키워드는 변수명으로 사용할 수 없다."
   ]
  },
  {
   "cell_type": "code",
   "execution_count": 16,
   "metadata": {},
   "outputs": [
    {
     "name": "stdout",
     "output_type": "stream",
     "text": [
      "['False', 'None', 'True', 'and', 'as', 'assert', 'async', 'await', 'break', 'class', 'continue', 'def', 'del', 'elif', 'else', 'except', 'finally', 'for', 'from', 'global', 'if', 'import', 'in', 'is', 'lambda', 'nonlocal', 'not', 'or', 'pass', 'raise', 'return', 'try', 'while', 'with', 'yield']\n"
     ]
    }
   ],
   "source": [
    "import keyword\n",
    "print(keyword.kwlist)"
   ]
  },
  {
   "cell_type": "code",
   "execution_count": 20,
   "metadata": {},
   "outputs": [
    {
     "data": {
      "text/plain": [
       "21"
      ]
     },
     "execution_count": 20,
     "metadata": {},
     "output_type": "execute_result"
    }
   ],
   "source": [
    "c = 7*3;c"
   ]
  },
  {
   "cell_type": "code",
   "execution_count": 24,
   "metadata": {},
   "outputs": [],
   "source": [
    "a = 3 ; b = 5"
   ]
  },
  {
   "cell_type": "code",
   "execution_count": 26,
   "metadata": {},
   "outputs": [
    {
     "name": "stdout",
     "output_type": "stream",
     "text": [
      "8\n",
      "-2\n",
      "15\n",
      "0.6\n",
      "--------------------\n",
      "a+b = 8\n",
      "a-b = 8\n",
      "a+b = 3 * 5 = 15\n",
      "a/b - 3 / 5 = 0.600000\n"
     ]
    }
   ],
   "source": [
    "print(a+b)\n",
    "print(a-b)\n",
    "print(a*b)\n",
    "print(a/b)\n",
    "\n",
    "print(\"-\"*20)\n",
    "print(\"a+b =\", a+b) #문자열을 넣고 변수 값을 출력\n",
    "print(\"a-b = {}\".format(a+b)) #.format의 내용을 {}에 할당\n",
    "print(\"a+b = {} * {} = {}\".format(a, b, a*b))\n",
    "# {} 개수에 맞추어 값을 할당\n",
    "print(\"a/b - %d / %d = %f\"%(a, b, a/b))\n",
    "#.format 대신 %로 연결 > %d(정수형 숫자) %f(소수형 숫자)\n",
    "# 이에따라 소수점 어디까지 끊을 수 있음"
   ]
  },
  {
   "cell_type": "code",
   "execution_count": 29,
   "metadata": {},
   "outputs": [
    {
     "name": "stdout",
     "output_type": "stream",
     "text": [
      "0\n"
     ]
    }
   ],
   "source": [
    "print(a//b) #나머지는 버리고 몫만 출력"
   ]
  },
  {
   "cell_type": "code",
   "execution_count": 28,
   "metadata": {},
   "outputs": [
    {
     "name": "stdout",
     "output_type": "stream",
     "text": [
      "3\n"
     ]
    }
   ],
   "source": [
    "print(a%b) #나머지만 출력"
   ]
  },
  {
   "cell_type": "code",
   "execution_count": 30,
   "metadata": {},
   "outputs": [],
   "source": [
    "cc = a%b #모든 변수는 항상 새로운 변수에 담을 수 있다."
   ]
  },
  {
   "cell_type": "code",
   "execution_count": 31,
   "metadata": {},
   "outputs": [
    {
     "data": {
      "text/plain": [
       "False"
      ]
     },
     "execution_count": 31,
     "metadata": {},
     "output_type": "execute_result"
    }
   ],
   "source": [
    "(a%b) == 1"
   ]
  },
  {
   "cell_type": "code",
   "execution_count": 32,
   "metadata": {},
   "outputs": [
    {
     "data": {
      "text/plain": [
       "True"
      ]
     },
     "execution_count": 32,
     "metadata": {},
     "output_type": "execute_result"
    }
   ],
   "source": [
    "cc == 3"
   ]
  },
  {
   "cell_type": "code",
   "execution_count": 45,
   "metadata": {},
   "outputs": [
    {
     "name": "stdout",
     "output_type": "stream",
     "text": [
      "343\n"
     ]
    }
   ],
   "source": [
    "####지수 '**'\n",
    "a=7\n",
    "b=3\n",
    "print(a**b) #a의 b승"
   ]
  },
  {
   "cell_type": "code",
   "execution_count": null,
   "metadata": {},
   "outputs": [],
   "source": []
  },
  {
   "cell_type": "markdown",
   "metadata": {},
   "source": [
    "## 문자열\n",
    "1. temp 변수에 'python is easy'를 넣으세요\n",
    "2. temp 변수 내용을 확인하세요"
   ]
  },
  {
   "cell_type": "code",
   "execution_count": 37,
   "metadata": {},
   "outputs": [
    {
     "name": "stdout",
     "output_type": "stream",
     "text": [
      "python is easy\n"
     ]
    }
   ],
   "source": [
    "temp = 'python is easy'\n",
    "print(temp)"
   ]
  },
  {
   "cell_type": "code",
   "execution_count": 39,
   "metadata": {},
   "outputs": [
    {
     "data": {
      "text/plain": [
       "'python is easy ll'"
      ]
     },
     "execution_count": 39,
     "metadata": {},
     "output_type": "execute_result"
    }
   ],
   "source": [
    "temp1 = \"python is easy ll\"; temp1 \n",
    "#print 없이 직접 입력하면 ''가 생성된다"
   ]
  },
  {
   "cell_type": "code",
   "execution_count": 40,
   "metadata": {},
   "outputs": [
    {
     "data": {
      "text/plain": [
       "14"
      ]
     },
     "execution_count": 40,
     "metadata": {},
     "output_type": "execute_result"
    }
   ],
   "source": [
    "len(temp) #띄어쓰기 포함 자리수"
   ]
  },
  {
   "cell_type": "code",
   "execution_count": 41,
   "metadata": {},
   "outputs": [
    {
     "data": {
      "text/plain": [
       "'pythonis easy'"
      ]
     },
     "execution_count": 41,
     "metadata": {},
     "output_type": "execute_result"
    }
   ],
   "source": [
    "'python' + 'is easy'"
   ]
  },
  {
   "cell_type": "code",
   "execution_count": 42,
   "metadata": {},
   "outputs": [
    {
     "data": {
      "text/plain": [
       "'python is easy'"
      ]
     },
     "execution_count": 42,
     "metadata": {},
     "output_type": "execute_result"
    }
   ],
   "source": [
    "'python ' + 'is easy'"
   ]
  },
  {
   "cell_type": "code",
   "execution_count": 1,
   "metadata": {},
   "outputs": [
    {
     "data": {
      "text/plain": [
       "'pythonis easy'"
      ]
     },
     "execution_count": 1,
     "metadata": {},
     "output_type": "execute_result"
    }
   ],
   "source": [
    "a = 'python'\n",
    "b = 'is easy'\n",
    "a + '' + b #공백을 선언해 주는 것"
   ]
  },
  {
   "cell_type": "code",
   "execution_count": 46,
   "metadata": {
    "scrolled": true
   },
   "outputs": [
    {
     "data": {
      "text/plain": [
       "'h'"
      ]
     },
     "execution_count": 46,
     "metadata": {},
     "output_type": "execute_result"
    }
   ],
   "source": [
    "temp[3]"
   ]
  },
  {
   "cell_type": "code",
   "execution_count": 47,
   "metadata": {},
   "outputs": [
    {
     "data": {
      "text/plain": [
       "'p'"
      ]
     },
     "execution_count": 47,
     "metadata": {},
     "output_type": "execute_result"
    }
   ],
   "source": [
    "temp[0] #len에 나온 자릿수 - 1"
   ]
  },
  {
   "cell_type": "code",
   "execution_count": 48,
   "metadata": {},
   "outputs": [
    {
     "data": {
      "text/plain": [
       "'python is easy'"
      ]
     },
     "execution_count": 48,
     "metadata": {},
     "output_type": "execute_result"
    }
   ],
   "source": [
    "# slice[st:en]\n",
    "temp"
   ]
  },
  {
   "cell_type": "code",
   "execution_count": 50,
   "metadata": {},
   "outputs": [
    {
     "data": {
      "text/plain": [
       "'pytho'"
      ]
     },
     "execution_count": 50,
     "metadata": {},
     "output_type": "execute_result"
    }
   ],
   "source": [
    "temp[0:5] #0부터 다섯번째 앞까지(0,1,2,3,4,5)"
   ]
  },
  {
   "cell_type": "code",
   "execution_count": 52,
   "metadata": {},
   "outputs": [
    {
     "data": {
      "text/plain": [
       "'easy'"
      ]
     },
     "execution_count": 52,
     "metadata": {},
     "output_type": "execute_result"
    }
   ],
   "source": [
    "# easy\n",
    "temp[10:14] #10부터 열 네번째 앞까지(10,11,12,13)"
   ]
  },
  {
   "cell_type": "code",
   "execution_count": 54,
   "metadata": {},
   "outputs": [
    {
     "data": {
      "text/plain": [
       "'easy'"
      ]
     },
     "execution_count": 54,
     "metadata": {},
     "output_type": "execute_result"
    }
   ],
   "source": [
    "#temp[st:en]\n",
    "temp[10:] #끝까지라는 뜻"
   ]
  },
  {
   "cell_type": "code",
   "execution_count": 55,
   "metadata": {},
   "outputs": [
    {
     "data": {
      "text/plain": [
       "'python is easy'"
      ]
     },
     "execution_count": 55,
     "metadata": {},
     "output_type": "execute_result"
    }
   ],
   "source": [
    "temp[:] #처음부터 끝까지라는 뜻\n"
   ]
  },
  {
   "cell_type": "code",
   "execution_count": 57,
   "metadata": {},
   "outputs": [
    {
     "data": {
      "text/plain": [
       "'eas'"
      ]
     },
     "execution_count": 57,
     "metadata": {},
     "output_type": "execute_result"
    }
   ],
   "source": [
    "temp[10:-1] #맨마지막값 제외"
   ]
  },
  {
   "cell_type": "code",
   "execution_count": 58,
   "metadata": {},
   "outputs": [
    {
     "data": {
      "text/plain": [
       "'pto ses'"
      ]
     },
     "execution_count": 58,
     "metadata": {},
     "output_type": "execute_result"
    }
   ],
   "source": [
    "temp[0:14:2]"
   ]
  },
  {
   "cell_type": "code",
   "execution_count": null,
   "metadata": {},
   "outputs": [],
   "source": []
  },
  {
   "cell_type": "code",
   "execution_count": 59,
   "metadata": {},
   "outputs": [],
   "source": [
    "a = 10"
   ]
  },
  {
   "cell_type": "code",
   "execution_count": 60,
   "metadata": {},
   "outputs": [
    {
     "data": {
      "text/plain": [
       "['__abs__',\n",
       " '__add__',\n",
       " '__and__',\n",
       " '__bool__',\n",
       " '__ceil__',\n",
       " '__class__',\n",
       " '__delattr__',\n",
       " '__dir__',\n",
       " '__divmod__',\n",
       " '__doc__',\n",
       " '__eq__',\n",
       " '__float__',\n",
       " '__floor__',\n",
       " '__floordiv__',\n",
       " '__format__',\n",
       " '__ge__',\n",
       " '__getattribute__',\n",
       " '__getnewargs__',\n",
       " '__gt__',\n",
       " '__hash__',\n",
       " '__index__',\n",
       " '__init__',\n",
       " '__init_subclass__',\n",
       " '__int__',\n",
       " '__invert__',\n",
       " '__le__',\n",
       " '__lshift__',\n",
       " '__lt__',\n",
       " '__mod__',\n",
       " '__mul__',\n",
       " '__ne__',\n",
       " '__neg__',\n",
       " '__new__',\n",
       " '__or__',\n",
       " '__pos__',\n",
       " '__pow__',\n",
       " '__radd__',\n",
       " '__rand__',\n",
       " '__rdivmod__',\n",
       " '__reduce__',\n",
       " '__reduce_ex__',\n",
       " '__repr__',\n",
       " '__rfloordiv__',\n",
       " '__rlshift__',\n",
       " '__rmod__',\n",
       " '__rmul__',\n",
       " '__ror__',\n",
       " '__round__',\n",
       " '__rpow__',\n",
       " '__rrshift__',\n",
       " '__rshift__',\n",
       " '__rsub__',\n",
       " '__rtruediv__',\n",
       " '__rxor__',\n",
       " '__setattr__',\n",
       " '__sizeof__',\n",
       " '__str__',\n",
       " '__sub__',\n",
       " '__subclasshook__',\n",
       " '__truediv__',\n",
       " '__trunc__',\n",
       " '__xor__',\n",
       " 'as_integer_ratio',\n",
       " 'bit_length',\n",
       " 'conjugate',\n",
       " 'denominator',\n",
       " 'from_bytes',\n",
       " 'imag',\n",
       " 'numerator',\n",
       " 'real',\n",
       " 'to_bytes']"
      ]
     },
     "execution_count": 60,
     "metadata": {},
     "output_type": "execute_result"
    }
   ],
   "source": [
    "dir(a)"
   ]
  },
  {
   "cell_type": "code",
   "execution_count": 61,
   "metadata": {},
   "outputs": [
    {
     "data": {
      "text/plain": [
       "['__add__',\n",
       " '__class__',\n",
       " '__contains__',\n",
       " '__delattr__',\n",
       " '__dir__',\n",
       " '__doc__',\n",
       " '__eq__',\n",
       " '__format__',\n",
       " '__ge__',\n",
       " '__getattribute__',\n",
       " '__getitem__',\n",
       " '__getnewargs__',\n",
       " '__gt__',\n",
       " '__hash__',\n",
       " '__init__',\n",
       " '__init_subclass__',\n",
       " '__iter__',\n",
       " '__le__',\n",
       " '__len__',\n",
       " '__lt__',\n",
       " '__mod__',\n",
       " '__mul__',\n",
       " '__ne__',\n",
       " '__new__',\n",
       " '__reduce__',\n",
       " '__reduce_ex__',\n",
       " '__repr__',\n",
       " '__rmod__',\n",
       " '__rmul__',\n",
       " '__setattr__',\n",
       " '__sizeof__',\n",
       " '__str__',\n",
       " '__subclasshook__',\n",
       " 'capitalize',\n",
       " 'casefold',\n",
       " 'center',\n",
       " 'count',\n",
       " 'encode',\n",
       " 'endswith',\n",
       " 'expandtabs',\n",
       " 'find',\n",
       " 'format',\n",
       " 'format_map',\n",
       " 'index',\n",
       " 'isalnum',\n",
       " 'isalpha',\n",
       " 'isascii',\n",
       " 'isdecimal',\n",
       " 'isdigit',\n",
       " 'isidentifier',\n",
       " 'islower',\n",
       " 'isnumeric',\n",
       " 'isprintable',\n",
       " 'isspace',\n",
       " 'istitle',\n",
       " 'isupper',\n",
       " 'join',\n",
       " 'ljust',\n",
       " 'lower',\n",
       " 'lstrip',\n",
       " 'maketrans',\n",
       " 'partition',\n",
       " 'replace',\n",
       " 'rfind',\n",
       " 'rindex',\n",
       " 'rjust',\n",
       " 'rpartition',\n",
       " 'rsplit',\n",
       " 'rstrip',\n",
       " 'split',\n",
       " 'splitlines',\n",
       " 'startswith',\n",
       " 'strip',\n",
       " 'swapcase',\n",
       " 'title',\n",
       " 'translate',\n",
       " 'upper',\n",
       " 'zfill']"
      ]
     },
     "execution_count": 61,
     "metadata": {},
     "output_type": "execute_result"
    }
   ],
   "source": [
    "dir(temp)"
   ]
  },
  {
   "cell_type": "code",
   "execution_count": 64,
   "metadata": {},
   "outputs": [],
   "source": [
    "# temp.(tab)"
   ]
  },
  {
   "cell_type": "code",
   "execution_count": 66,
   "metadata": {},
   "outputs": [
    {
     "data": {
      "text/plain": [
       "['python', 'is', 'easy']"
      ]
     },
     "execution_count": 66,
     "metadata": {},
     "output_type": "execute_result"
    }
   ],
   "source": [
    "# split() 스페이스 기준\n",
    "temp.split()"
   ]
  },
  {
   "cell_type": "code",
   "execution_count": 67,
   "metadata": {},
   "outputs": [
    {
     "data": {
      "text/plain": [
       "['p', 'thon is eas', '']"
      ]
     },
     "execution_count": 67,
     "metadata": {},
     "output_type": "execute_result"
    }
   ],
   "source": [
    "temp.split(sep=\"y\")"
   ]
  },
  {
   "cell_type": "code",
   "execution_count": 69,
   "metadata": {},
   "outputs": [
    {
     "data": {
      "text/plain": [
       "['python', 'java', 'R', 'SAS']"
      ]
     },
     "execution_count": 69,
     "metadata": {},
     "output_type": "execute_result"
    }
   ],
   "source": [
    "temp2 = ['python', 'java', 'R', 'SAS']\n",
    "temp2"
   ]
  },
  {
   "cell_type": "code",
   "execution_count": 70,
   "metadata": {},
   "outputs": [
    {
     "data": {
      "text/plain": [
       "'python,java,R,SAS'"
      ]
     },
     "execution_count": 70,
     "metadata": {},
     "output_type": "execute_result"
    }
   ],
   "source": [
    "','.join(temp2)"
   ]
  },
  {
   "cell_type": "code",
   "execution_count": 71,
   "metadata": {},
   "outputs": [
    {
     "data": {
      "text/plain": [
       "'python$java$R$SAS'"
      ]
     },
     "execution_count": 71,
     "metadata": {},
     "output_type": "execute_result"
    }
   ],
   "source": [
    "'$'.join(temp2)"
   ]
  },
  {
   "cell_type": "code",
   "execution_count": null,
   "metadata": {},
   "outputs": [],
   "source": []
  },
  {
   "cell_type": "code",
   "execution_count": 77,
   "metadata": {},
   "outputs": [
    {
     "name": "stdout",
     "output_type": "stream",
     "text": [
      "my name is \"LIM\"\n",
      "my name is 'LIM'\n"
     ]
    }
   ],
   "source": [
    "string = 'my name is \"LIM\"'\n",
    "string1 = \"my name is 'LIM'\"\n",
    "print(string)\n",
    "print(string1)"
   ]
  },
  {
   "cell_type": "code",
   "execution_count": 83,
   "metadata": {},
   "outputs": [
    {
     "data": {
      "text/plain": [
       "'\\n2021년 3월이 시작\\n올해는 파이썬을 활용한 데이터분석 전문가를\\n목표로 하면 좋겠습니다.\\n'"
      ]
     },
     "execution_count": 83,
     "metadata": {},
     "output_type": "execute_result"
    }
   ],
   "source": [
    "string2 = '''\n",
    "2021년 3월이 시작\n",
    "올해는 파이썬을 활용한 데이터분석 전문가를\n",
    "목표로 하면 좋겠습니다.\n",
    "'''\n",
    "string2"
   ]
  },
  {
   "cell_type": "code",
   "execution_count": 80,
   "metadata": {},
   "outputs": [
    {
     "name": "stdout",
     "output_type": "stream",
     "text": [
      "\n",
      "2021년 3월이 시작\n",
      "올해는 파이썬을 활용한 데이터분석 전문가를\n",
      "목표로 하면 좋겠습니다.\n",
      "\n"
     ]
    }
   ],
   "source": [
    "print(string2)"
   ]
  },
  {
   "cell_type": "code",
   "execution_count": 85,
   "metadata": {},
   "outputs": [
    {
     "data": {
      "text/plain": [
       "['', '2021년 3월이 시작', '올해는 파이썬을 활용한 데이터분석 전문가를', '목표로 하면 좋겠습니다.', '']"
      ]
     },
     "execution_count": 85,
     "metadata": {},
     "output_type": "execute_result"
    }
   ],
   "source": [
    "string2.split(\"\\n\")"
   ]
  },
  {
   "cell_type": "code",
   "execution_count": null,
   "metadata": {},
   "outputs": [],
   "source": []
  },
  {
   "cell_type": "markdown",
   "metadata": {},
   "source": [
    "## 문자열 함수"
   ]
  },
  {
   "cell_type": "code",
   "execution_count": 91,
   "metadata": {},
   "outputs": [
    {
     "name": "stdout",
     "output_type": "stream",
     "text": [
      "  Life is good \n"
     ]
    }
   ],
   "source": [
    "str = '  Life is good ';\n",
    "print(str)"
   ]
  },
  {
   "cell_type": "code",
   "execution_count": 92,
   "metadata": {},
   "outputs": [
    {
     "data": {
      "text/plain": [
       "15"
      ]
     },
     "execution_count": 92,
     "metadata": {},
     "output_type": "execute_result"
    }
   ],
   "source": [
    "len(str)"
   ]
  },
  {
   "cell_type": "code",
   "execution_count": 93,
   "metadata": {},
   "outputs": [
    {
     "data": {
      "text/plain": [
       "15"
      ]
     },
     "execution_count": 93,
     "metadata": {},
     "output_type": "execute_result"
    }
   ],
   "source": [
    "lenstr = len(str) ; lenstr"
   ]
  },
  {
   "cell_type": "code",
   "execution_count": 94,
   "metadata": {},
   "outputs": [
    {
     "data": {
      "text/plain": [
       "3"
      ]
     },
     "execution_count": 94,
     "metadata": {},
     "output_type": "execute_result"
    }
   ],
   "source": [
    "str.find('i')"
   ]
  },
  {
   "cell_type": "code",
   "execution_count": 95,
   "metadata": {},
   "outputs": [],
   "source": [
    "temp3 = str"
   ]
  },
  {
   "cell_type": "code",
   "execution_count": 96,
   "metadata": {},
   "outputs": [
    {
     "data": {
      "text/plain": [
       "'  LIFE IS GOOD '"
      ]
     },
     "execution_count": 96,
     "metadata": {},
     "output_type": "execute_result"
    }
   ],
   "source": [
    "temp3.upper()"
   ]
  },
  {
   "cell_type": "code",
   "execution_count": 98,
   "metadata": {},
   "outputs": [
    {
     "data": {
      "text/plain": [
       "'Life is good'"
      ]
     },
     "execution_count": 98,
     "metadata": {},
     "output_type": "execute_result"
    }
   ],
   "source": [
    "temp3.strip() #공백을 없애는 함수"
   ]
  },
  {
   "cell_type": "code",
   "execution_count": 102,
   "metadata": {},
   "outputs": [
    {
     "name": "stdout",
     "output_type": "stream",
     "text": [
      "Hello, and welcome to my world!\n"
     ]
    }
   ],
   "source": [
    "txt = 'hello, and welcome to my world!'\n",
    "x = txt.capitalize()\n",
    "print(x)"
   ]
  },
  {
   "cell_type": "code",
   "execution_count": 103,
   "metadata": {},
   "outputs": [
    {
     "name": "stdout",
     "output_type": "stream",
     "text": [
      "hello, and welcome to my world!\n"
     ]
    }
   ],
   "source": [
    "txt = 'Hello, And Welcome To My World!'\n",
    "x = txt.casefold()\n",
    "print(x)"
   ]
  },
  {
   "cell_type": "code",
   "execution_count": null,
   "metadata": {},
   "outputs": [],
   "source": []
  },
  {
   "cell_type": "markdown",
   "metadata": {},
   "source": [
    "## 데이터 구조\n",
    "1. 리스트 : 변수 = [요소1, 요소2, 요소3]\n",
    "2. 튜플 : 변수 = (요소1, 요소2, 요소3)\n",
    "3. 딕셔너리 : 변수명 = {\"ket1\":\"value1\", \"key2\":\"value2\", ....}"
   ]
  },
  {
   "cell_type": "markdown",
   "metadata": {},
   "source": [
    "### 리스트, 튜플"
   ]
  },
  {
   "cell_type": "code",
   "execution_count": 106,
   "metadata": {},
   "outputs": [
    {
     "data": {
      "text/plain": [
       "['one', 'two', 'three', 'four']"
      ]
     },
     "execution_count": 106,
     "metadata": {},
     "output_type": "execute_result"
    }
   ],
   "source": [
    "# 리스트 생성\n",
    "num = ['one', 'two', 'three', 'four']\n",
    "num"
   ]
  },
  {
   "cell_type": "code",
   "execution_count": 108,
   "metadata": {},
   "outputs": [
    {
     "data": {
      "text/plain": [
       "('one', 'two', 'three', 'four')"
      ]
     },
     "execution_count": 108,
     "metadata": {},
     "output_type": "execute_result"
    }
   ],
   "source": [
    "#튜플구조에서 리스트 구조로 변환하기\n",
    "num_tuple = ('one', 'two', 'three', 'four')\n",
    "num_tuple"
   ]
  },
  {
   "cell_type": "code",
   "execution_count": 109,
   "metadata": {},
   "outputs": [
    {
     "data": {
      "text/plain": [
       "['one', 'two', 'three', 'four']"
      ]
     },
     "execution_count": 109,
     "metadata": {},
     "output_type": "execute_result"
    }
   ],
   "source": [
    "list(num_tuple)"
   ]
  },
  {
   "cell_type": "code",
   "execution_count": 110,
   "metadata": {},
   "outputs": [
    {
     "data": {
      "text/plain": [
       "['one', 'two', 'three', 'four']"
      ]
     },
     "execution_count": 110,
     "metadata": {},
     "output_type": "execute_result"
    }
   ],
   "source": [
    "num_list = list(num_tuple);num_list"
   ]
  },
  {
   "cell_type": "code",
   "execution_count": null,
   "metadata": {},
   "outputs": [],
   "source": []
  },
  {
   "cell_type": "code",
   "execution_count": 111,
   "metadata": {},
   "outputs": [
    {
     "data": {
      "text/plain": [
       "'one'"
      ]
     },
     "execution_count": 111,
     "metadata": {},
     "output_type": "execute_result"
    }
   ],
   "source": [
    "num[0]"
   ]
  },
  {
   "cell_type": "code",
   "execution_count": 112,
   "metadata": {},
   "outputs": [
    {
     "data": {
      "text/plain": [
       "'two'"
      ]
     },
     "execution_count": 112,
     "metadata": {},
     "output_type": "execute_result"
    }
   ],
   "source": [
    "num[1]"
   ]
  },
  {
   "cell_type": "code",
   "execution_count": 113,
   "metadata": {},
   "outputs": [
    {
     "data": {
      "text/plain": [
       "['first', 'two', 'three', 'four']"
      ]
     },
     "execution_count": 113,
     "metadata": {},
     "output_type": "execute_result"
    }
   ],
   "source": [
    "num[0] = \"first\";num"
   ]
  },
  {
   "cell_type": "code",
   "execution_count": 116,
   "metadata": {},
   "outputs": [
    {
     "data": {
      "text/plain": [
       "['first', 'two', 'three', 'four', 'five', 'five', 'five']"
      ]
     },
     "execution_count": 116,
     "metadata": {},
     "output_type": "execute_result"
    }
   ],
   "source": [
    "num.append('five');num #실행시킨 숫자만큼 추가된다"
   ]
  },
  {
   "cell_type": "code",
   "execution_count": 117,
   "metadata": {},
   "outputs": [
    {
     "data": {
      "text/plain": [
       "['first', 'two', 'three', 'four', 'five', 'five']"
      ]
     },
     "execution_count": 117,
     "metadata": {},
     "output_type": "execute_result"
    }
   ],
   "source": [
    "del num[4]; num"
   ]
  },
  {
   "cell_type": "code",
   "execution_count": 118,
   "metadata": {},
   "outputs": [
    {
     "data": {
      "text/plain": [
       "['first', 'two', 'four', 'five', 'five']"
      ]
     },
     "execution_count": 118,
     "metadata": {},
     "output_type": "execute_result"
    }
   ],
   "source": [
    "num.remove('three');num"
   ]
  },
  {
   "cell_type": "code",
   "execution_count": 119,
   "metadata": {},
   "outputs": [],
   "source": [
    "num1 = ['1','2','3','4']\n",
    "num2 = ['a','b','c','d']"
   ]
  },
  {
   "cell_type": "code",
   "execution_count": 120,
   "metadata": {},
   "outputs": [
    {
     "data": {
      "text/plain": [
       "['1', '2', '3', '4']"
      ]
     },
     "execution_count": 120,
     "metadata": {},
     "output_type": "execute_result"
    }
   ],
   "source": [
    "num1"
   ]
  },
  {
   "cell_type": "code",
   "execution_count": 121,
   "metadata": {},
   "outputs": [
    {
     "data": {
      "text/plain": [
       "['a', 'b', 'c', 'd']"
      ]
     },
     "execution_count": 121,
     "metadata": {},
     "output_type": "execute_result"
    }
   ],
   "source": [
    "num2"
   ]
  },
  {
   "cell_type": "code",
   "execution_count": 123,
   "metadata": {},
   "outputs": [
    {
     "data": {
      "text/plain": [
       "['1', '2', '3', '4', 'a', 'b', 'c', 'd', 'a', 'b', 'c', 'd']"
      ]
     },
     "execution_count": 123,
     "metadata": {},
     "output_type": "execute_result"
    }
   ],
   "source": [
    "num1.extend(num2);num1"
   ]
  },
  {
   "cell_type": "code",
   "execution_count": 129,
   "metadata": {},
   "outputs": [
    {
     "name": "stdout",
     "output_type": "stream",
     "text": [
      "before =  ['one', 'two', 'three', 'four']\n",
      "after =  ['four', 'one', 'three', 'two']\n"
     ]
    }
   ],
   "source": [
    "num=['one','two','three','four']\n",
    "new_num = sorted(num)\n",
    "print(\"before = \", num)\n",
    "print(\"after = \", new_num)"
   ]
  },
  {
   "cell_type": "code",
   "execution_count": 128,
   "metadata": {},
   "outputs": [
    {
     "name": "stdout",
     "output_type": "stream",
     "text": [
      "sort =  ['four', 'one', 'three', 'two']\n"
     ]
    }
   ],
   "source": [
    "num.sort() #원본이 바뀌는 것이기 때문에 매우 위험한 방법\n",
    "print(\"sort = \", num)"
   ]
  },
  {
   "cell_type": "code",
   "execution_count": 131,
   "metadata": {},
   "outputs": [
    {
     "name": "stdout",
     "output_type": "stream",
     "text": [
      "sort =  ['two', 'three', 'one', 'four']\n"
     ]
    }
   ],
   "source": [
    "num.sort(reverse=True)\n",
    "print(\"sort = \", num)"
   ]
  },
  {
   "cell_type": "code",
   "execution_count": null,
   "metadata": {},
   "outputs": [],
   "source": []
  },
  {
   "cell_type": "code",
   "execution_count": 132,
   "metadata": {},
   "outputs": [
    {
     "data": {
      "text/plain": [
       "list"
      ]
     },
     "execution_count": 132,
     "metadata": {},
     "output_type": "execute_result"
    }
   ],
   "source": [
    "type(num)"
   ]
  },
  {
   "cell_type": "code",
   "execution_count": 133,
   "metadata": {},
   "outputs": [
    {
     "data": {
      "text/plain": [
       "(1, 2, 3, 4)"
      ]
     },
     "execution_count": 133,
     "metadata": {},
     "output_type": "execute_result"
    }
   ],
   "source": [
    "num2 = (1,2,3,4)\n",
    "num2"
   ]
  },
  {
   "cell_type": "code",
   "execution_count": 134,
   "metadata": {},
   "outputs": [
    {
     "data": {
      "text/plain": [
       "tuple"
      ]
     },
     "execution_count": 134,
     "metadata": {},
     "output_type": "execute_result"
    }
   ],
   "source": [
    "type(num2)"
   ]
  },
  {
   "cell_type": "markdown",
   "metadata": {},
   "source": [
    "### 딕셔너리"
   ]
  },
  {
   "cell_type": "code",
   "execution_count": 137,
   "metadata": {},
   "outputs": [
    {
     "name": "stdout",
     "output_type": "stream",
     "text": [
      "{'apple': 3500, 'pear': 2500, 'cherry': 5000}\n"
     ]
    }
   ],
   "source": [
    "fruit_price = [['apple',3500], ['pear',2500], ['cherry',5000]]\n",
    "fruit_price\n",
    "\n",
    "fruit_dict = dict(fruit_price)\n",
    "print(fruit_dict)"
   ]
  },
  {
   "cell_type": "code",
   "execution_count": 139,
   "metadata": {},
   "outputs": [
    {
     "data": {
      "text/plain": [
       "{'apple': 3500, 'pear': 2500, 'cherry': 5000}"
      ]
     },
     "execution_count": 139,
     "metadata": {},
     "output_type": "execute_result"
    }
   ],
   "source": [
    "fruit_dict2 = {'apple':3500,\n",
    "              'pear':2500,\n",
    "              'cherry':5000}\n",
    "fruit_dict2"
   ]
  },
  {
   "cell_type": "code",
   "execution_count": 141,
   "metadata": {},
   "outputs": [
    {
     "data": {
      "text/plain": [
       "dict_keys(['apple', 'pear', 'cherry'])"
      ]
     },
     "execution_count": 141,
     "metadata": {},
     "output_type": "execute_result"
    }
   ],
   "source": [
    "fruit_dict.keys()"
   ]
  },
  {
   "cell_type": "code",
   "execution_count": 142,
   "metadata": {},
   "outputs": [
    {
     "data": {
      "text/plain": [
       "dict_values([3500, 2500, 5000])"
      ]
     },
     "execution_count": 142,
     "metadata": {},
     "output_type": "execute_result"
    }
   ],
   "source": [
    "fruit_dict.values()"
   ]
  },
  {
   "cell_type": "code",
   "execution_count": 143,
   "metadata": {},
   "outputs": [
    {
     "data": {
      "text/plain": [
       "dict_items([('apple', 3500), ('pear', 2500), ('cherry', 5000)])"
      ]
     },
     "execution_count": 143,
     "metadata": {},
     "output_type": "execute_result"
    }
   ],
   "source": [
    "fruit_dict.items()"
   ]
  },
  {
   "cell_type": "code",
   "execution_count": 145,
   "metadata": {},
   "outputs": [
    {
     "data": {
      "text/plain": [
       "2500"
      ]
     },
     "execution_count": 145,
     "metadata": {},
     "output_type": "execute_result"
    }
   ],
   "source": [
    "fruit_dict['pear'] #리스트, 튜플과는 다르게 키값을 불러와야 한다\n",
    "#계속해서 매칭되는 순서가 없기 때문에 속도가 빠르다는 장점"
   ]
  },
  {
   "cell_type": "code",
   "execution_count": 147,
   "metadata": {},
   "outputs": [
    {
     "data": {
      "text/plain": [
       "{1: ['mina', 'jane', 'mark'],\n",
       " 2: ['peter', 'pay', 'parker'],\n",
       " 3: ['pay', 'joy', 'conan', 'new']}"
      ]
     },
     "execution_count": 147,
     "metadata": {},
     "output_type": "execute_result"
    }
   ],
   "source": [
    "school_class = {1:['mina', 'jane', 'mark'],\n",
    "               2:['peter', 'pay', 'parker'],\n",
    "               3:['pay', 'joy', 'conan', 'new']}\n",
    "school_class"
   ]
  },
  {
   "cell_type": "code",
   "execution_count": 148,
   "metadata": {},
   "outputs": [
    {
     "data": {
      "text/plain": [
       "['peter', 'pay', 'parker']"
      ]
     },
     "execution_count": 148,
     "metadata": {},
     "output_type": "execute_result"
    }
   ],
   "source": [
    "school_class[2]"
   ]
  },
  {
   "cell_type": "code",
   "execution_count": 149,
   "metadata": {},
   "outputs": [
    {
     "data": {
      "text/plain": [
       "['mina', 'jane', 'mark']"
      ]
     },
     "execution_count": 149,
     "metadata": {},
     "output_type": "execute_result"
    }
   ],
   "source": [
    "school_class.get(1)"
   ]
  },
  {
   "cell_type": "code",
   "execution_count": null,
   "metadata": {},
   "outputs": [],
   "source": []
  },
  {
   "cell_type": "code",
   "execution_count": 155,
   "metadata": {
    "scrolled": true
   },
   "outputs": [],
   "source": [
    "python = True"
   ]
  },
  {
   "cell_type": "code",
   "execution_count": 156,
   "metadata": {},
   "outputs": [
    {
     "data": {
      "text/plain": [
       "True"
      ]
     },
     "execution_count": 156,
     "metadata": {},
     "output_type": "execute_result"
    }
   ],
   "source": [
    "python"
   ]
  },
  {
   "cell_type": "code",
   "execution_count": 157,
   "metadata": {},
   "outputs": [
    {
     "data": {
      "text/plain": [
       "bool"
      ]
     },
     "execution_count": 157,
     "metadata": {},
     "output_type": "execute_result"
    }
   ],
   "source": [
    "type(python)"
   ]
  },
  {
   "cell_type": "code",
   "execution_count": null,
   "metadata": {},
   "outputs": [],
   "source": []
  },
  {
   "cell_type": "markdown",
   "metadata": {},
   "source": [
    "## 비교 연산자 실습"
   ]
  },
  {
   "cell_type": "code",
   "execution_count": 170,
   "metadata": {},
   "outputs": [
    {
     "name": "stdout",
     "output_type": "stream",
     "text": [
      "a == b 이면 False\n",
      "a != b 이면 True\n",
      "a < b 이면 True\n",
      "a > b 이면 False\n",
      "a >= b 이면 False\n",
      "a in (10,20,30) 이면 True\n"
     ]
    }
   ],
   "source": [
    "a=10; b=15; c=10\n",
    "print(\"a == b 이면\", (a==b))\n",
    "print(\"a != b 이면\", (a!=b))\n",
    "print(\"a < b 이면\", (a<b))\n",
    "print(\"a > b 이면\", (a>b))\n",
    "print(\"a >= b 이면\", (a>=b))\n",
    "print(\"a in (10,20,30) 이면\", (a in (10,20,30)))"
   ]
  },
  {
   "cell_type": "markdown",
   "metadata": {},
   "source": [
    "## 논리 연산자 실습"
   ]
  },
  {
   "cell_type": "code",
   "execution_count": 3,
   "metadata": {},
   "outputs": [
    {
     "name": "stdout",
     "output_type": "stream",
     "text": [
      "(a==b) and (a==c) = False\n"
     ]
    }
   ],
   "source": [
    "print(\"(a==b) and (a==c) =\", (a==b) and (a==c)) #'그리고' = 둘 다 참이어야 참"
   ]
  },
  {
   "cell_type": "code",
   "execution_count": 4,
   "metadata": {},
   "outputs": [
    {
     "data": {
      "text/plain": [
       "False"
      ]
     },
     "execution_count": 4,
     "metadata": {},
     "output_type": "execute_result"
    }
   ],
   "source": [
    "(a==b) & (a==c)"
   ]
  },
  {
   "cell_type": "code",
   "execution_count": 5,
   "metadata": {},
   "outputs": [
    {
     "data": {
      "text/plain": [
       "True"
      ]
     },
     "execution_count": 5,
     "metadata": {},
     "output_type": "execute_result"
    }
   ],
   "source": [
    "a==b & a==c #정확한 지시가 필요"
   ]
  },
  {
   "cell_type": "code",
   "execution_count": 6,
   "metadata": {},
   "outputs": [
    {
     "name": "stdout",
     "output_type": "stream",
     "text": [
      "(a==b) or (a==c) = True\n"
     ]
    }
   ],
   "source": [
    "print(\"(a==b) or (a==c) =\",(a==b) or (a==c)) #'또는' = 둘 중 하나만 참이어도 참"
   ]
  },
  {
   "cell_type": "code",
   "execution_count": 7,
   "metadata": {},
   "outputs": [
    {
     "data": {
      "text/plain": [
       "False"
      ]
     },
     "execution_count": 7,
     "metadata": {},
     "output_type": "execute_result"
    }
   ],
   "source": [
    "a==b"
   ]
  },
  {
   "cell_type": "code",
   "execution_count": 8,
   "metadata": {},
   "outputs": [
    {
     "data": {
      "text/plain": [
       "True"
      ]
     },
     "execution_count": 8,
     "metadata": {},
     "output_type": "execute_result"
    }
   ],
   "source": [
    "not(a==b)"
   ]
  },
  {
   "cell_type": "code",
   "execution_count": 9,
   "metadata": {},
   "outputs": [
    {
     "data": {
      "text/plain": [
       "10"
      ]
     },
     "execution_count": 9,
     "metadata": {},
     "output_type": "execute_result"
    }
   ],
   "source": [
    "a"
   ]
  },
  {
   "cell_type": "code",
   "execution_count": 10,
   "metadata": {},
   "outputs": [
    {
     "data": {
      "text/plain": [
       "15"
      ]
     },
     "execution_count": 10,
     "metadata": {},
     "output_type": "execute_result"
    }
   ],
   "source": [
    "b"
   ]
  },
  {
   "cell_type": "code",
   "execution_count": 11,
   "metadata": {},
   "outputs": [
    {
     "data": {
      "text/plain": [
       "140709737343040"
      ]
     },
     "execution_count": 11,
     "metadata": {},
     "output_type": "execute_result"
    }
   ],
   "source": [
    "id(a)"
   ]
  },
  {
   "cell_type": "code",
   "execution_count": 12,
   "metadata": {},
   "outputs": [
    {
     "data": {
      "text/plain": [
       "140709737343200"
      ]
     },
     "execution_count": 12,
     "metadata": {},
     "output_type": "execute_result"
    }
   ],
   "source": [
    "id(b)"
   ]
  },
  {
   "cell_type": "code",
   "execution_count": 13,
   "metadata": {},
   "outputs": [],
   "source": [
    "#'is', 'is not' 식별 연산자는 id 값을 비교하는 것"
   ]
  },
  {
   "cell_type": "code",
   "execution_count": null,
   "metadata": {},
   "outputs": [],
   "source": []
  },
  {
   "cell_type": "markdown",
   "metadata": {},
   "source": [
    "## 조건문\n",
    "1. if\n",
    "2. if else\n",
    "3. if elif else"
   ]
  },
  {
   "cell_type": "code",
   "execution_count": 16,
   "metadata": {},
   "outputs": [
    {
     "name": "stdout",
     "output_type": "stream",
     "text": [
      "조건문이 참일때 실행\n"
     ]
    }
   ],
   "source": [
    "#문법\n",
    "# if (조건)\n",
    "\n",
    "python = True\n",
    "\n",
    "if(python) :\n",
    "    print(\"조건문이 참일때 실행\")"
   ]
  },
  {
   "cell_type": "code",
   "execution_count": 18,
   "metadata": {},
   "outputs": [
    {
     "name": "stdout",
     "output_type": "stream",
     "text": [
      "조건문이 참일 때 실행\n"
     ]
    }
   ],
   "source": [
    "python = True\n",
    "\n",
    "if(python) :\n",
    "    print(\"조건문이 참일 때 실행\")\n",
    "else:\n",
    "    print(\"조건문이 거짓일 때 실행\")"
   ]
  },
  {
   "cell_type": "code",
   "execution_count": 20,
   "metadata": {},
   "outputs": [
    {
     "name": "stdout",
     "output_type": "stream",
     "text": [
      "조건문이 거짓일 때 실행\n"
     ]
    }
   ],
   "source": [
    "a=10; b=20; c=10\n",
    "\n",
    "if(a==b) :\n",
    "    print(\"조건문이 참일 때 실행\")\n",
    "else:\n",
    "    print(\"조건문이 거짓일 때 실행\")"
   ]
  },
  {
   "cell_type": "code",
   "execution_count": 21,
   "metadata": {},
   "outputs": [
    {
     "name": "stdout",
     "output_type": "stream",
     "text": [
      "조건문이 거짓일 때 실행\n"
     ]
    }
   ],
   "source": [
    "python = 0 #0이면 거짓, 나머지는 참\n",
    "\n",
    "if(python) :\n",
    "    print(\"조건문이 참일 때 실행\")\n",
    "else:\n",
    "    print(\"조건문이 거짓일 때 실행\")"
   ]
  },
  {
   "cell_type": "code",
   "execution_count": 22,
   "metadata": {},
   "outputs": [
    {
     "name": "stdout",
     "output_type": "stream",
     "text": [
      "조건문이 참일 때 실행\n"
     ]
    }
   ],
   "source": [
    "python = 1 #혹은 -1\n",
    "\n",
    "if(python) :\n",
    "    print(\"조건문이 참일 때 실행\")\n",
    "else:\n",
    "    print(\"조건문이 거짓일 때 실행\")"
   ]
  },
  {
   "cell_type": "code",
   "execution_count": null,
   "metadata": {},
   "outputs": [],
   "source": []
  },
  {
   "cell_type": "code",
   "execution_count": 23,
   "metadata": {},
   "outputs": [
    {
     "name": "stdout",
     "output_type": "stream",
     "text": [
      "참일 때 실행1\n",
      "참일 때 실행2\n",
      "참일 때 실행3\n"
     ]
    }
   ],
   "source": [
    "python=True\n",
    "\n",
    "if(python):\n",
    "    print(\"참일 때 실행1\") #if문에서 띄어쓰기로 실행 영역 구분하므로 주의할 것.\n",
    "    print(\"참일 때 실행2\")\n",
    "    print(\"참일 때 실행3\")\n",
    "else:\n",
    "    print(\"거짓일 때 실행1\")\n",
    "    print(\"거짓일 때 실행2\")\n",
    "    print(\"거짓일 때 실행3\")"
   ]
  },
  {
   "cell_type": "code",
   "execution_count": null,
   "metadata": {},
   "outputs": [],
   "source": []
  },
  {
   "cell_type": "code",
   "execution_count": 25,
   "metadata": {},
   "outputs": [
    {
     "name": "stdout",
     "output_type": "stream",
     "text": [
      "첫번째 조건 참이 아님\n",
      "두번째 조건 참\n"
     ]
    }
   ],
   "source": [
    "#elif\n",
    "python = False\n",
    "pycharm = True\n",
    "\n",
    "if(python): #1. 조건 실행\n",
    "    print(\"첫번째 조건 참\")\n",
    "elif(pycharm): #2. #1이 Flalse일 때 조건 실행\n",
    "    print(\"첫번째 조건 참이 아님\")\n",
    "    print(\"두번째 조건 참\")\n",
    "else: #3. #2가 False일 때 조건 실행\n",
    "    print(\"조건 참이 아님\")"
   ]
  },
  {
   "cell_type": "code",
   "execution_count": 27,
   "metadata": {},
   "outputs": [
    {
     "name": "stdout",
     "output_type": "stream",
     "text": [
      "세번째 조건만 참\n"
     ]
    }
   ],
   "source": [
    "#elif\n",
    "python = False\n",
    "pycharm = False\n",
    "aa=True\n",
    "\n",
    "if(python): \n",
    "    print(\"첫번째 조건 참\")\n",
    "elif(pycharm):\n",
    "    print(\"첫번째 조건 참이 아니고 두번째 조건 참\")\n",
    "elif(python or pycharm or aa):\n",
    "    print(\"세번째 조건만 참\")\n",
    "else: \n",
    "    print(\"조건 참이 아님\")"
   ]
  },
  {
   "cell_type": "code",
   "execution_count": null,
   "metadata": {},
   "outputs": [],
   "source": []
  },
  {
   "cell_type": "markdown",
   "metadata": {},
   "source": [
    "## 실습 문제\n",
    "1.  점수를 화면 입력받아 처리하는 기능\n",
    "2.  점수 > 90 \"A등급\"\n",
    "    90 > 점수 > 80 \"B등급\"\n",
    "    80 > 점수 > 70 \"C등급\"\n",
    "    70 > 점수 \" D등급\""
   ]
  },
  {
   "cell_type": "code",
   "execution_count": 30,
   "metadata": {},
   "outputs": [
    {
     "name": "stdout",
     "output_type": "stream",
     "text": [
      "점수는 몇 점?95\n"
     ]
    },
    {
     "data": {
      "text/plain": [
       "'95'"
      ]
     },
     "execution_count": 30,
     "metadata": {},
     "output_type": "execute_result"
    }
   ],
   "source": [
    "input(\"점수는 몇 점?\")"
   ]
  },
  {
   "cell_type": "code",
   "execution_count": 31,
   "metadata": {},
   "outputs": [
    {
     "name": "stdout",
     "output_type": "stream",
     "text": [
      "점수는 몇 점?95\n"
     ]
    }
   ],
   "source": [
    "score = input(\"점수는 몇 점?\")"
   ]
  },
  {
   "cell_type": "code",
   "execution_count": 32,
   "metadata": {},
   "outputs": [
    {
     "data": {
      "text/plain": [
       "'95'"
      ]
     },
     "execution_count": 32,
     "metadata": {},
     "output_type": "execute_result"
    }
   ],
   "source": [
    "score"
   ]
  },
  {
   "cell_type": "code",
   "execution_count": 34,
   "metadata": {},
   "outputs": [
    {
     "ename": "TypeError",
     "evalue": "'>=' not supported between instances of 'str' and 'int'",
     "output_type": "error",
     "traceback": [
      "\u001b[1;31m---------------------------------------------------------------------------\u001b[0m",
      "\u001b[1;31mTypeError\u001b[0m                                 Traceback (most recent call last)",
      "\u001b[1;32m<ipython-input-34-685699fdc5c0>\u001b[0m in \u001b[0;36m<module>\u001b[1;34m\u001b[0m\n\u001b[1;32m----> 1\u001b[1;33m \u001b[1;32mif\u001b[0m\u001b[1;33m(\u001b[0m\u001b[0mscore\u001b[0m\u001b[1;33m>=\u001b[0m\u001b[1;36m90\u001b[0m\u001b[1;33m)\u001b[0m\u001b[1;33m:\u001b[0m\u001b[1;33m\u001b[0m\u001b[1;33m\u001b[0m\u001b[0m\n\u001b[0m\u001b[0;32m      2\u001b[0m     \u001b[0mprint\u001b[0m\u001b[1;33m(\u001b[0m\u001b[1;34m\"A등급\"\u001b[0m\u001b[1;33m)\u001b[0m\u001b[1;33m\u001b[0m\u001b[1;33m\u001b[0m\u001b[0m\n\u001b[0;32m      3\u001b[0m \u001b[1;32melif\u001b[0m\u001b[1;33m(\u001b[0m\u001b[1;36m90\u001b[0m\u001b[1;33m>\u001b[0m\u001b[0mscore\u001b[0m\u001b[1;33m>=\u001b[0m\u001b[1;36m80\u001b[0m\u001b[1;33m)\u001b[0m\u001b[1;33m:\u001b[0m\u001b[1;33m\u001b[0m\u001b[1;33m\u001b[0m\u001b[0m\n\u001b[0;32m      4\u001b[0m     \u001b[0mprint\u001b[0m\u001b[1;33m(\u001b[0m\u001b[1;34m\"B등급\"\u001b[0m\u001b[1;33m)\u001b[0m\u001b[1;33m\u001b[0m\u001b[1;33m\u001b[0m\u001b[0m\n\u001b[0;32m      5\u001b[0m \u001b[1;32melif\u001b[0m\u001b[1;33m(\u001b[0m\u001b[1;36m80\u001b[0m\u001b[1;33m>\u001b[0m\u001b[0mscore\u001b[0m\u001b[1;33m>=\u001b[0m\u001b[1;36m70\u001b[0m\u001b[1;33m)\u001b[0m\u001b[1;33m:\u001b[0m\u001b[1;33m\u001b[0m\u001b[1;33m\u001b[0m\u001b[0m\n",
      "\u001b[1;31mTypeError\u001b[0m: '>=' not supported between instances of 'str' and 'int'"
     ]
    }
   ],
   "source": [
    "if(score>=90):\n",
    "    print(\"A등급\")\n",
    "elif(90>score>=80):\n",
    "    print(\"B등급\")\n",
    "elif(80>score>=70):\n",
    "    print(\"C등급\")\n",
    "else:\n",
    "    print(\"D등급\") #에러메시지 해석 : score는 ''로 이루어진 string값(문자열) > int(score)로 값을 바꿀 수 있다."
   ]
  },
  {
   "cell_type": "code",
   "execution_count": 35,
   "metadata": {},
   "outputs": [
    {
     "data": {
      "text/plain": [
       "str"
      ]
     },
     "execution_count": 35,
     "metadata": {},
     "output_type": "execute_result"
    }
   ],
   "source": [
    "type(score)"
   ]
  },
  {
   "cell_type": "code",
   "execution_count": 36,
   "metadata": {},
   "outputs": [],
   "source": [
    "score=int(score)"
   ]
  },
  {
   "cell_type": "code",
   "execution_count": 37,
   "metadata": {},
   "outputs": [
    {
     "data": {
      "text/plain": [
       "int"
      ]
     },
     "execution_count": 37,
     "metadata": {},
     "output_type": "execute_result"
    }
   ],
   "source": [
    "type(score)"
   ]
  },
  {
   "cell_type": "code",
   "execution_count": 38,
   "metadata": {},
   "outputs": [
    {
     "name": "stdout",
     "output_type": "stream",
     "text": [
      "A등급\n"
     ]
    }
   ],
   "source": [
    "if(score>=90):\n",
    "    print(\"A등급\")\n",
    "elif(90>score>=80):\n",
    "    print(\"B등급\")\n",
    "elif(80>score>=70):\n",
    "    print(\"C등급\")\n",
    "else:\n",
    "    print(\"D등급\")"
   ]
  },
  {
   "cell_type": "code",
   "execution_count": 39,
   "metadata": {},
   "outputs": [
    {
     "name": "stdout",
     "output_type": "stream",
     "text": [
      "점수는 몇 점?85\n",
      "B등급\n"
     ]
    }
   ],
   "source": [
    "#위에서 한 모든 과정을 종합하면 다음과 같다\n",
    "\n",
    "score=int(input(\"점수는 몇 점?\"))\n",
    "\n",
    "if(score>=90):\n",
    "    print(\"A등급\")\n",
    "elif(90>score>=80):\n",
    "    print(\"B등급\")\n",
    "elif(80>score>=70):\n",
    "    print(\"C등급\")\n",
    "else:\n",
    "    print(\"D등급\")"
   ]
  },
  {
   "cell_type": "code",
   "execution_count": null,
   "metadata": {},
   "outputs": [],
   "source": []
  },
  {
   "cell_type": "markdown",
   "metadata": {},
   "source": [
    "## 반복문\n",
    "1. for\n",
    "2. while"
   ]
  },
  {
   "cell_type": "code",
   "execution_count": 40,
   "metadata": {},
   "outputs": [],
   "source": [
    "#문법\n",
    "#for ( 변수 ) in [반복횟수정보] :\n",
    "#반복 실행문"
   ]
  },
  {
   "cell_type": "code",
   "execution_count": null,
   "metadata": {},
   "outputs": [],
   "source": []
  },
  {
   "cell_type": "code",
   "execution_count": 48,
   "metadata": {},
   "outputs": [
    {
     "data": {
      "text/plain": [
       "range(1, 10)"
      ]
     },
     "execution_count": 48,
     "metadata": {},
     "output_type": "execute_result"
    }
   ],
   "source": [
    "range(1,10)"
   ]
  },
  {
   "cell_type": "code",
   "execution_count": 43,
   "metadata": {},
   "outputs": [
    {
     "data": {
      "text/plain": [
       "[1, 2, 3, 4, 5, 6, 7, 8, 9]"
      ]
     },
     "execution_count": 43,
     "metadata": {},
     "output_type": "execute_result"
    }
   ],
   "source": [
    "list(range(1,10))"
   ]
  },
  {
   "cell_type": "code",
   "execution_count": 44,
   "metadata": {},
   "outputs": [
    {
     "name": "stdout",
     "output_type": "stream",
     "text": [
      "숫자= 1\n",
      "숫자= 2\n",
      "숫자= 3\n",
      "숫자= 4\n",
      "숫자= 5\n",
      "숫자= 6\n",
      "숫자= 7\n",
      "숫자= 8\n",
      "숫자= 9\n"
     ]
    }
   ],
   "source": [
    "for i in range(1,10):\n",
    "    print(\"숫자=\", i)"
   ]
  },
  {
   "cell_type": "code",
   "execution_count": 45,
   "metadata": {},
   "outputs": [
    {
     "name": "stdout",
     "output_type": "stream",
     "text": [
      "숫자= 1\n",
      "숫자= 3\n",
      "숫자= 5\n",
      "숫자= 7\n",
      "숫자= 9\n"
     ]
    }
   ],
   "source": [
    "for i in range(1,10,2):\n",
    "    print(\"숫자=\", i)"
   ]
  },
  {
   "cell_type": "code",
   "execution_count": 46,
   "metadata": {},
   "outputs": [
    {
     "name": "stdout",
     "output_type": "stream",
     "text": [
      "숫자= 1\n",
      "숫자= 3\n",
      "숫자= 4\n",
      "숫자= 5\n",
      "숫자= 7\n"
     ]
    }
   ],
   "source": [
    "for i in [1,3,4,5,7]:\n",
    "    print(\"숫자=\", i)"
   ]
  },
  {
   "cell_type": "code",
   "execution_count": 49,
   "metadata": {},
   "outputs": [
    {
     "name": "stdout",
     "output_type": "stream",
     "text": [
      "count= 0 숫자= 1\n",
      "count= 1 숫자= 3\n",
      "count= 2 숫자= 4\n",
      "count= 3 숫자= 5\n",
      "count= 4 숫자= 7\n"
     ]
    }
   ],
   "source": [
    "count = 0\n",
    "for i in [1,3,4,5,7]:\n",
    "    print(\"count=\", count, \"숫자=\", i)\n",
    "    count = count + 1"
   ]
  },
  {
   "cell_type": "code",
   "execution_count": 50,
   "metadata": {},
   "outputs": [
    {
     "name": "stdout",
     "output_type": "stream",
     "text": [
      "count= 0 숫자= 1\n",
      "count= 1 숫자= 3\n",
      "count= 2 숫자= 4\n",
      "count= 3 숫자= 5\n",
      "count= 4 숫자= 7\n"
     ]
    }
   ],
   "source": [
    "count = 0\n",
    "aa=[1,3,4,5,7]\n",
    "\n",
    "for i in aa:\n",
    "    print(\"count=\", count, \"숫자=\", i)\n",
    "    count = count + 1"
   ]
  },
  {
   "cell_type": "code",
   "execution_count": 53,
   "metadata": {},
   "outputs": [
    {
     "name": "stdout",
     "output_type": "stream",
     "text": [
      "count 0 알파벳= h\n",
      "count 1 알파벳= e\n",
      "count 2 알파벳= l\n",
      "count 3 알파벳= l\n",
      "count 4 알파벳= o\n"
     ]
    }
   ],
   "source": [
    "count = 0\n",
    "bb = \"hello\" #'int' object is not iterable\n",
    "\n",
    "for i in bb:\n",
    "    print(\"count\", count, \"알파벳=\", i)\n",
    "    count = count +1"
   ]
  },
  {
   "cell_type": "code",
   "execution_count": null,
   "metadata": {},
   "outputs": [],
   "source": []
  },
  {
   "cell_type": "code",
   "execution_count": 56,
   "metadata": {},
   "outputs": [
    {
     "name": "stdout",
     "output_type": "stream",
     "text": [
      "<class 'list'>\n",
      "과일명은 apple\n",
      "과일명은 pear\n",
      "과일명은 cherry\n"
     ]
    }
   ],
   "source": [
    "fruit = ['apple', 'pear', 'cherry']\n",
    "print(type(fruit))\n",
    "\n",
    "for i in fruit:\n",
    "    print(\"과일명은\", i)"
   ]
  },
  {
   "cell_type": "code",
   "execution_count": null,
   "metadata": {},
   "outputs": [],
   "source": []
  },
  {
   "cell_type": "code",
   "execution_count": 58,
   "metadata": {},
   "outputs": [
    {
     "name": "stdout",
     "output_type": "stream",
     "text": [
      "{'apple': 3500, 'pear': 2500, 'cherry': 3500}\n",
      "과일명은 apple\n",
      "과일명은 pear\n",
      "과일명은 cherry\n"
     ]
    }
   ],
   "source": [
    "#딕셔너리 for문\n",
    "fruit_price = {'apple':3500, 'pear':2500, 'cherry':3500}\n",
    "print(fruit_price)\n",
    "\n",
    "for i in fruit_price.keys():\n",
    "    print(\"과일명은\", i)"
   ]
  },
  {
   "cell_type": "code",
   "execution_count": 59,
   "metadata": {},
   "outputs": [
    {
     "name": "stdout",
     "output_type": "stream",
     "text": [
      "{'apple': 3500, 'pear': 2500, 'cherry': 3500}\n",
      "과일 가격은 3500\n",
      "과일 가격은 2500\n",
      "과일 가격은 3500\n"
     ]
    }
   ],
   "source": [
    "fruit_price = {'apple':3500, 'pear':2500, 'cherry':3500}\n",
    "print(fruit_price)\n",
    "\n",
    "for i in fruit_price.values():\n",
    "    print(\"과일 가격은\", i)"
   ]
  },
  {
   "cell_type": "code",
   "execution_count": 60,
   "metadata": {},
   "outputs": [
    {
     "data": {
      "text/plain": [
       "dict_items([('apple', 3500), ('pear', 2500), ('cherry', 3500)])"
      ]
     },
     "execution_count": 60,
     "metadata": {},
     "output_type": "execute_result"
    }
   ],
   "source": [
    "fruit_price.items()"
   ]
  },
  {
   "cell_type": "code",
   "execution_count": 61,
   "metadata": {},
   "outputs": [
    {
     "name": "stdout",
     "output_type": "stream",
     "text": [
      "{'apple': 3500, 'pear': 2500, 'cherry': 3500}\n",
      "과일 가격은 ('apple', 3500)\n",
      "과일 가격은 ('pear', 2500)\n",
      "과일 가격은 ('cherry', 3500)\n"
     ]
    }
   ],
   "source": [
    "fruit_price = {'apple':3500, 'pear':2500, 'cherry':3500}\n",
    "print(fruit_price)\n",
    "\n",
    "for i in fruit_price.items():\n",
    "    print(\"과일 가격은\", i)"
   ]
  },
  {
   "cell_type": "code",
   "execution_count": 62,
   "metadata": {},
   "outputs": [
    {
     "name": "stdout",
     "output_type": "stream",
     "text": [
      "과일명은 apple 과일 가격은 3500\n",
      "과일명은 pear 과일 가격은 2500\n",
      "과일명은 cherry 과일 가격은 3500\n"
     ]
    }
   ],
   "source": [
    "for i in fruit_price.items():\n",
    "    print(\"과일명은\", i[0], \"과일 가격은\", i[1])"
   ]
  },
  {
   "cell_type": "code",
   "execution_count": null,
   "metadata": {},
   "outputs": [],
   "source": []
  },
  {
   "cell_type": "code",
   "execution_count": 64,
   "metadata": {},
   "outputs": [
    {
     "name": "stdout",
     "output_type": "stream",
     "text": [
      "3000원 이상 과일은 ['apple', 'cherry']\n",
      "3000원 이하 과일은 ['pear']\n"
     ]
    }
   ],
   "source": [
    "#과일명을 저장할 빈 리스트 만들기\n",
    "high_price =[]\n",
    "low_price =[]\n",
    "\n",
    "#과일명과 가격으로 구성된 딕셔너리 생성\n",
    "fruit_price = {'apple':3500, 'pear':2500, 'cherry':3500}\n",
    "\n",
    "#과일가격이 3000원보다 큰 과일명과 작은 과일명 찾기\n",
    "for item in fruit_price.items():\n",
    "    if item[1]>3000 :\n",
    "        high_price.append(item[0])\n",
    "    else:\n",
    "        low_price.append(item[0])\n",
    "        \n",
    "#결과 출력하기\n",
    "print(\"3000원 이상 과일은\", high_price)\n",
    "print(\"3000원 이하 과일은\", low_price)"
   ]
  },
  {
   "cell_type": "code",
   "execution_count": 65,
   "metadata": {},
   "outputs": [
    {
     "name": "stdout",
     "output_type": "stream",
     "text": [
      "item= ('apple', 3500)\n",
      "item[1]111= 3500\n",
      "high= ['apple']\n",
      "item= ('pear', 2500)\n",
      "item[1]222= 2500\n",
      "low= ['pear']\n",
      "item= ('cherry', 3500)\n",
      "item[1]111= 3500\n",
      "high= ['apple', 'cherry']\n"
     ]
    }
   ],
   "source": [
    "#과정 뜯어보기\n",
    "high_price =[]\n",
    "low_price =[]\n",
    "\n",
    "fruit_price = {'apple':3500, 'pear':2500, 'cherry':3500}\n",
    "\n",
    "for item in fruit_price.items():\n",
    "    print(\"item=\", item)\n",
    "    if item[1]>3000 :\n",
    "        print(\"item[1]111=\", item[1])\n",
    "        high_price.append(item[0])\n",
    "        print(\"high=\", high_price)\n",
    "    else:\n",
    "        print(\"item[1]222=\", item[1])\n",
    "        low_price.append(item[0])\n",
    "        print(\"low=\", low_price)"
   ]
  },
  {
   "cell_type": "code",
   "execution_count": 70,
   "metadata": {},
   "outputs": [
    {
     "name": "stdout",
     "output_type": "stream",
     "text": [
      "3000원 이상 과일은 ['apple', 'cherry'] 개수는 20\n",
      "3000원 이하 과일은 ['pear'] 개수는 5\n"
     ]
    }
   ],
   "source": [
    "#과일명과 과일 가격, 개수로 구성된 딕셔너리로 for문 만들기\n",
    "high_price =[]\n",
    "low_price =[]\n",
    "high_count =[]; high_count = 0 #빈 저장소를 생성하는 것이 핵심\n",
    "low_count =[]; low_count = 0\n",
    "\n",
    "fruit_price = {'apple':[3500,10], 'pear':[2500,5], 'cherry':[3500,10]}\n",
    "\n",
    "for item in fruit_price.items():\n",
    "    if item[1][0]>3000 :\n",
    "        high_price.append(item[0])\n",
    "        high_count = high_count+item[1][1] #값을 계속 반복해서 더해주기 때문에 이렇게만 식을 세워주면 된다\n",
    "    else:\n",
    "        low_price.append(item[0])\n",
    "        low_count = low_count+item[1][1]\n",
    "        \n",
    "#결과 출력하기\n",
    "print(\"3000원 이상 과일은\", high_price, \"개수는\", high_count)\n",
    "print(\"3000원 이하 과일은\", low_price, \"개수는\", low_count)"
   ]
  },
  {
   "cell_type": "code",
   "execution_count": null,
   "metadata": {},
   "outputs": [],
   "source": []
  },
  {
   "cell_type": "markdown",
   "metadata": {},
   "source": [
    "- python document if statements\n",
    "https://docs.python.org/3/tutorial/controlflow.html#if-statements"
   ]
  },
  {
   "cell_type": "code",
   "execution_count": 76,
   "metadata": {},
   "outputs": [
    {
     "name": "stdout",
     "output_type": "stream",
     "text": [
      "Please enter an integer:-8\n",
      "Negative changed to zero\n"
     ]
    }
   ],
   "source": [
    "x=int(input(\"Please enter an integer:\"))\n",
    "\n",
    "if (x<0):\n",
    "    x=0\n",
    "    print('Negative changed to zero')\n",
    "elif (x==0):\n",
    "    print('Zero')\n",
    "elif (x==1):\n",
    "    print('Single')\n",
    "elif (x>1):\n",
    "    print('More')"
   ]
  },
  {
   "cell_type": "code",
   "execution_count": null,
   "metadata": {},
   "outputs": [],
   "source": []
  },
  {
   "cell_type": "code",
   "execution_count": 77,
   "metadata": {},
   "outputs": [
    {
     "name": "stdout",
     "output_type": "stream",
     "text": [
      "과일명은 apple\n",
      "과일가격과 개수는 [3500, 10]\n",
      "과일명은 pear\n",
      "과일가격과 개수는 [2500, 5]\n",
      "과일명은 cherry\n",
      "과일가격과 개수는 [3500, 10]\n"
     ]
    }
   ],
   "source": [
    "for name, value in fruit_price.items():\n",
    "    print(\"과일명은\", name)\n",
    "    print(\"과일가격과 개수는\", value)"
   ]
  },
  {
   "cell_type": "code",
   "execution_count": null,
   "metadata": {},
   "outputs": [],
   "source": []
  },
  {
   "cell_type": "markdown",
   "metadata": {},
   "source": [
    "- break"
   ]
  },
  {
   "cell_type": "code",
   "execution_count": 83,
   "metadata": {},
   "outputs": [
    {
     "name": "stdout",
     "output_type": "stream",
     "text": [
      "2 is a prime number\n",
      "3 is a prime number\n",
      "4 equals 2 * 2\n",
      "4 is a prime number\n",
      "5 is a prime number\n",
      "6 equals 2 * 3\n",
      "6 equals 3 * 2\n",
      "6 is a prime number\n",
      "7 is a prime number\n",
      "8 equals 2 * 4\n",
      "8 equals 4 * 2\n",
      "8 is a prime number\n",
      "9 equals 3 * 3\n",
      "9 is a prime number\n"
     ]
    }
   ],
   "source": [
    "for n in range(2,10):\n",
    "    for x in range(2,n) :\n",
    "        if n % x ==0:\n",
    "            print(n, \"equals\", x, '*', n//x)\n",
    "    else:\n",
    "        print(n, 'is a prime number')"
   ]
  },
  {
   "cell_type": "code",
   "execution_count": 84,
   "metadata": {},
   "outputs": [
    {
     "name": "stdout",
     "output_type": "stream",
     "text": [
      "2 is a prime number\n",
      "3 is a prime number\n",
      "4 equals 2 * 2\n",
      "5 is a prime number\n",
      "6 equals 2 * 3\n",
      "7 is a prime number\n",
      "8 equals 2 * 4\n",
      "9 equals 3 * 3\n"
     ]
    }
   ],
   "source": [
    "for n in range(2,10):\n",
    "    for x in range(2,n) :\n",
    "        if n % x ==0:\n",
    "            print(n, \"equals\", x, '*', n//x)\n",
    "            break\n",
    "    else:\n",
    "        print(n, 'is a prime number') #파이썬 for else문 : 자주는 안 씀"
   ]
  },
  {
   "cell_type": "code",
   "execution_count": null,
   "metadata": {},
   "outputs": [],
   "source": []
  },
  {
   "cell_type": "code",
   "execution_count": 89,
   "metadata": {},
   "outputs": [
    {
     "name": "stdout",
     "output_type": "stream",
     "text": [
      "Found an even number 2\n",
      "Found an odd number 3\n",
      "Found an even number 4\n",
      "Found an odd number 5\n",
      "Found an even number 6\n",
      "Found an odd number 7\n",
      "Found an even number 8\n",
      "Found an odd number 9\n"
     ]
    }
   ],
   "source": [
    "for num in range(2, 10):\n",
    "    if num % 2 == 0:\n",
    "         print(\"Found an even number\", num)\n",
    "         continue\n",
    "    print(\"Found an odd number\", num)"
   ]
  },
  {
   "cell_type": "code",
   "execution_count": 90,
   "metadata": {},
   "outputs": [
    {
     "name": "stdout",
     "output_type": "stream",
     "text": [
      "Found an odd number 3\n",
      "Found an even number 4\n"
     ]
    }
   ],
   "source": [
    "for num in range(3, 10):\n",
    "    if num % 2 == 0:\n",
    "         print(\"Found an even number\", num)\n",
    "         break\n",
    "    print(\"Found an odd number\", num)"
   ]
  },
  {
   "cell_type": "code",
   "execution_count": null,
   "metadata": {},
   "outputs": [],
   "source": []
  },
  {
   "cell_type": "markdown",
   "metadata": {},
   "source": [
    "- while (조건) :\n",
    "    조건이 충족되면 무한 반복\n",
    "    (조건 변경 작업으로 모듈 종료)"
   ]
  },
  {
   "cell_type": "code",
   "execution_count": 93,
   "metadata": {},
   "outputs": [
    {
     "name": "stdout",
     "output_type": "stream",
     "text": [
      "0before a = 0 b = 1\n",
      "after a = 1 b = 1\n",
      "----------\n",
      "1before a = 1 b = 1\n",
      "after a = 1 b = 2\n",
      "----------\n",
      "1before a = 1 b = 2\n",
      "after a = 2 b = 3\n",
      "----------\n",
      "2before a = 2 b = 3\n",
      "after a = 3 b = 5\n",
      "----------\n",
      "3before a = 3 b = 5\n",
      "after a = 5 b = 8\n",
      "----------\n",
      "5before a = 5 b = 8\n",
      "after a = 8 b = 13\n",
      "----------\n",
      "8before a = 8 b = 13\n",
      "after a = 13 b = 21\n",
      "----------\n"
     ]
    }
   ],
   "source": [
    "n=10\n",
    "a,b=0,1\n",
    "\n",
    "while a<n:\n",
    "    print(a, end='')\n",
    "    print(\"before a =\",a, \"b =\", b)\n",
    "    a,b = b,a+b\n",
    "    print(\"after a =\", a, \"b =\", b)\n",
    "    print(\"-\"*10)"
   ]
  },
  {
   "cell_type": "code",
   "execution_count": null,
   "metadata": {},
   "outputs": [],
   "source": []
  },
  {
   "cell_type": "code",
   "execution_count": null,
   "metadata": {},
   "outputs": [],
   "source": []
  }
 ],
 "metadata": {
  "kernelspec": {
   "display_name": "Python 3",
   "language": "python",
   "name": "python3"
  },
  "language_info": {
   "codemirror_mode": {
    "name": "ipython",
    "version": 3
   },
   "file_extension": ".py",
   "mimetype": "text/x-python",
   "name": "python",
   "nbconvert_exporter": "python",
   "pygments_lexer": "ipython3",
   "version": "3.8.5"
  }
 },
 "nbformat": 4,
 "nbformat_minor": 4
}
