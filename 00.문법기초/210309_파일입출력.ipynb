{
 "cells": [
  {
   "cell_type": "markdown",
   "metadata": {},
   "source": [
    "## txt파일 출력"
   ]
  },
  {
   "cell_type": "code",
   "execution_count": 3,
   "metadata": {},
   "outputs": [
    {
     "data": {
      "text/plain": [
       "<_io.TextIOWrapper name='fruit.txt' mode='wt' encoding='cp949'>"
      ]
     },
     "execution_count": 3,
     "metadata": {},
     "output_type": "execute_result"
    }
   ],
   "source": [
    "open(\"fruit.txt\",\"wt\")"
   ]
  },
  {
   "cell_type": "code",
   "execution_count": 8,
   "metadata": {},
   "outputs": [],
   "source": [
    "fruit_output = open('fruit.txt','wt')\n",
    "\n",
    "fruit_price = {'apple':3500, 'pear':2500, 'cherry':5000}\n",
    "\n",
    "for item in fruit_price.items():\n",
    "    print(item, file=fruit_output)\n",
    "    \n",
    "fruit_output.close()"
   ]
  },
  {
   "cell_type": "code",
   "execution_count": 12,
   "metadata": {},
   "outputs": [],
   "source": [
    "fruit_output = open('C:/Users/USER/Desktop/코테연습/fruit.txt','wt')\n",
    "\n",
    "fruit_price = {'apple':3500, 'pear':2500, 'cherry':5000}\n",
    "\n",
    "for item in fruit_price.items():\n",
    "    print(item, file=fruit_output)\n",
    "    \n",
    "fruit_output.close()"
   ]
  },
  {
   "cell_type": "code",
   "execution_count": null,
   "metadata": {},
   "outputs": [],
   "source": []
  },
  {
   "cell_type": "code",
   "execution_count": 19,
   "metadata": {},
   "outputs": [],
   "source": [
    "fruit = open(\"fruit2.txt\", \"wt\")\n",
    "fruit.write('apple 3500\\n')\n",
    "fruit.write('pear 2500\\n')\n",
    "fruit.write('cherry 5000\\n')\n",
    "fruit.close()"
   ]
  },
  {
   "cell_type": "code",
   "execution_count": 20,
   "metadata": {},
   "outputs": [],
   "source": [
    "fruit = open(\"fruit2.txt\", \"wt\")\n",
    "fruit.write('apple 3500  ')\n",
    "fruit.write('pear 2500  ')\n",
    "fruit.write('cherry 5000  ')\n",
    "fruit.close()"
   ]
  },
  {
   "cell_type": "code",
   "execution_count": null,
   "metadata": {},
   "outputs": [],
   "source": []
  },
  {
   "cell_type": "markdown",
   "metadata": {},
   "source": [
    "## csv 출력"
   ]
  },
  {
   "cell_type": "code",
   "execution_count": 21,
   "metadata": {},
   "outputs": [],
   "source": [
    "import csv #csv 엑셀파일 : csv파일은 별도의 import가 필요함. csv파일의 용량이 작기 때문에 csv 파일로 데이터를 주고 받는다.\n",
    "\n",
    "with open('fruit.csv', 'w', newline='') as fruit:\n",
    "    writer = csv.writer(fruit, delimiter=',')\n",
    "    writer.writerow(['apple'])\n",
    "    writer.writerow(['pear'])\n",
    "    writer.writerow(['cherry'])\n",
    "    writer.writerow(['banana'])\n",
    "    writer.writerow(['peach'])"
   ]
  },
  {
   "cell_type": "code",
   "execution_count": 22,
   "metadata": {},
   "outputs": [],
   "source": [
    "import csv\n",
    "\n",
    "with open('c:/Users/USER/Desktop/코테연습/fruit.csv', 'w', newline='') as fruit:\n",
    "    writer = csv.writer(fruit, delimiter=',')\n",
    "    writer.writerow(['apple'])\n",
    "    writer.writerow(['pear'])\n",
    "    writer.writerow(['cherry'])\n",
    "    writer.writerow(['banana'])\n",
    "    writer.writerow(['peach'])"
   ]
  },
  {
   "cell_type": "code",
   "execution_count": null,
   "metadata": {},
   "outputs": [],
   "source": []
  },
  {
   "cell_type": "markdown",
   "metadata": {},
   "source": [
    " txt 파일 읽기"
   ]
  },
  {
   "cell_type": "code",
   "execution_count": 26,
   "metadata": {},
   "outputs": [
    {
     "name": "stdout",
     "output_type": "stream",
     "text": [
      "fp= <_io.TextIOWrapper name='fruit.txt' mode='rt' encoding='cp949'>\n",
      "[\"('apple', 3500)\\n\", \"('pear', 2500)\\n\", \"('cherry', 5000)\\n\"]\n"
     ]
    }
   ],
   "source": [
    "fp = open('fruit.txt', 'rt')\n",
    "print('fp=',fp)\n",
    "\n",
    "fruit = fp.readlines()\n",
    "print(fruit)"
   ]
  },
  {
   "cell_type": "code",
   "execution_count": 25,
   "metadata": {},
   "outputs": [
    {
     "name": "stdout",
     "output_type": "stream",
     "text": [
      "[\"('apple', 3500)\\n\", \"('pear', 2500)\\n\", \"('cherry', 5000)\\n\"]\n"
     ]
    }
   ],
   "source": [
    "fruit = fp.readlines()\n",
    "print(fruit)"
   ]
  },
  {
   "cell_type": "code",
   "execution_count": null,
   "metadata": {},
   "outputs": [],
   "source": []
  },
  {
   "cell_type": "markdown",
   "metadata": {},
   "source": [
    "csv 파일 읽기"
   ]
  },
  {
   "cell_type": "code",
   "execution_count": 30,
   "metadata": {},
   "outputs": [
    {
     "name": "stdout",
     "output_type": "stream",
     "text": [
      "['apple']\n",
      "['pear']\n",
      "['cherry']\n",
      "['banana']\n",
      "['peach']\n"
     ]
    }
   ],
   "source": [
    "import csv\n",
    "\n",
    "f = open ('fruit.csv', 'rt')\n",
    "csvRead = csv.reader (f)\n",
    "csvRead\n",
    "    \n",
    "fruit =[]\n",
    "for i in csvRead:\n",
    "    print(i)\n",
    "    fruit.append(i)"
   ]
  },
  {
   "cell_type": "code",
   "execution_count": null,
   "metadata": {},
   "outputs": [],
   "source": []
  }
 ],
 "metadata": {
  "kernelspec": {
   "display_name": "Python 3",
   "language": "python",
   "name": "python3"
  },
  "language_info": {
   "codemirror_mode": {
    "name": "ipython",
    "version": 3
   },
   "file_extension": ".py",
   "mimetype": "text/x-python",
   "name": "python",
   "nbconvert_exporter": "python",
   "pygments_lexer": "ipython3",
   "version": "3.8.5"
  }
 },
 "nbformat": 4,
 "nbformat_minor": 4
}
