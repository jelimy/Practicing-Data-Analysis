{
 "cells": [
  {
   "cell_type": "markdown",
   "metadata": {},
   "source": [
    "### 1. 뉴스 속보 수집\n",
    "- 이미지 링크\n",
    "- 기사 링크, 기사 제목\n",
    "- 기사 내용\n",
    "\n",
    "### 2. 뉴스 속보 데이터 만들기(DataFrame)\n",
    "- 변수1, 변수2, 변수3, 변수4\n",
    "- 리스트로 만들고 (append)\n",
    "- 이미지 링크, 기사링크, 기사제목, 기사 내용\n",
    "\n",
    "### 3. 이미지 링크에서 이미지 데이터 다운 받기\n",
    "- img_down 폴더 만들고\n",
    "- 이미지 저장하기"
   ]
  },
  {
   "cell_type": "code",
   "execution_count": 16,
   "metadata": {
    "scrolled": false
   },
   "outputs": [
    {
     "name": "stdout",
     "output_type": "stream",
     "text": [
      "img= https://imgnews.pstatic.net/image/origin/005/2021/03/19/1422075.jpg?type=nf106_72\n",
      "link= https://news.naver.com/main/read.nhn?mode=LSD&mid=sec&sid1=001&oid=005&aid=0001422075\n",
      "기사제목= ‘中으로 꺼져’ 한인에 막말한 백인 정체, 전 상원의원 딸\n",
      "기사내용= 맨해튼에서 한국계 미국인 부부에게 “중국으로 꺼져라”등 막말을 한 혐의로 기소된 백인이 알고보니 전 뉴욕 상원의원인 故 대니얼  \n",
      "--------------------------\n",
      "No image\n",
      "No Content\n",
      "--------------------------\n",
      "No image\n",
      "No Content\n",
      "--------------------------\n",
      "img= https://imgnews.pstatic.net/image/origin/469/2021/03/19/589628.jpg?type=nf106_72\n",
      "link= https://news.naver.com/main/read.nhn?mode=LSD&mid=sec&sid1=001&oid=469&aid=0000589628\n",
      "기사제목= 아동학대 원장·교사, 자격정지 2년 → 5년\n",
      "기사내용= 앞으로 영유아를 학대해 생명을 해치거나 신체 또는 정신에 중대한 손해를 입힌 어린이집 원장ㆍ보육교사의 자격정지 기준이 기존 2년 \n",
      "--------------------------\n",
      "img= https://imgnews.pstatic.net/image/origin/119/2021/03/19/2477364.jpg?type=nf106_72\n",
      "link= https://news.naver.com/main/read.nhn?mode=LSD&mid=sec&sid1=001&oid=119&aid=0002477364\n",
      "기사제목= 정부, EDCF-IDB 협조융자 확대 합의\n",
      "기사내용= 정부가 대외경제협력기금(EDCF)과 미주개발은행(IDB) 간 협조융자 한도를 늘리고 협력사업 대상도 민간으로 확대하기로 했다.  \n",
      "--------------------------\n",
      "img= https://imgnews.pstatic.net/image/origin/081/2021/03/19/3172313.jpg?type=nf106_72\n",
      "link= https://news.naver.com/main/read.nhn?mode=LSD&mid=sec&sid1=001&oid=081&aid=0003172313\n",
      "기사제목= 박형준 “아파트 아들에게서 샀지만 부정, 특혜없어”\n",
      "기사내용= 박형준 국민의힘 부산시장 후보는 19일 “지금 사는 엘시티 아파트는 아들로부터 매입한 것은 사실이지만, 이 사안의 본질은 불법  \n",
      "--------------------------\n",
      "img= https://imgnews.pstatic.net/image/origin/081/2021/03/19/3172312.jpg?type=nf106_72\n",
      "link= https://news.naver.com/main/read.nhn?mode=LSD&mid=sec&sid1=001&oid=081&aid=0003172312\n",
      "기사제목= 엄교섭 경기도의원, 경기도 지역건설산업 활성화 촉진 조례 개정안 입법예고\n",
      "기사내용= 경기도의회 건설교통위원회 엄교섭 의원(더불어민주당, 용인2)이 19일 지역건설산업 활성화 추진위원회 회의를 활성화하는 내용을 담 \n",
      "--------------------------\n",
      "img= https://imgnews.pstatic.net/image/origin/015/2021/03/19/4516171.jpg?type=nf106_72\n",
      "link= https://news.naver.com/main/read.nhn?mode=LSD&mid=sec&sid1=001&oid=015&aid=0004516171\n",
      "기사제목= 청 \"행정관 이상 3700명 전수결과 투기거래 없어, 경호처는 의심거래 1건\"\n",
      "기사내용= 청와대는 19일 대통령 비서실 소속 직원과 배우자·직계 가족 3700여명 대상의 3기 신도시 투기여부 조사결과 투기적 거래는 없 \n",
      "--------------------------\n",
      "img= https://imgnews.pstatic.net/image/origin/366/2021/03/19/687421.jpg?type=nf106_72\n",
      "link= https://news.naver.com/main/read.nhn?mode=LSD&mid=sec&sid1=001&oid=366&aid=0000687421\n",
      "기사제목= 교촌X뚜레쥬르 '고로케' 출시…할인 쿠폰에 '먹방' 이벤트 진행\n",
      "기사내용= 교촌에프앤비가 뚜레쥬르와 협업해 개발한 고로케 출시를 기념해 할인 이벤트를 진행한다고 19일 밝혔다. 교촌은 뚜레쥬르에서 '교촌 \n",
      "--------------------------\n",
      "img= https://imgnews.pstatic.net/image/origin/366/2021/03/19/687420.jpg?type=nf106_72\n",
      "link= https://news.naver.com/main/read.nhn?mode=LSD&mid=sec&sid1=001&oid=366&aid=0000687420\n",
      "기사제목= 서울 개포동 개포대치2단지 60㎡ 16억6000만원에 거래\n",
      "기사내용= [이 기사는 조선비즈와 아티웰스가 공동으로 개발해 서비스하는 로봇 기사입니다.] 국토교통부 실거래가 공개시스템에 따르면 지난 2 \n",
      "--------------------------\n"
     ]
    }
   ],
   "source": [
    "import requests\n",
    "from bs4 import BeautifulSoup\n",
    "\n",
    "headers = {'User-Agent':'Mozilla/5.0'}\n",
    "url = 'https://news.naver.com/main/list.nhn?mode=LSD&mid=sec&sid1=001'\n",
    "html = requests.get(url,headers=headers).text\n",
    "\n",
    "soup = BeautifulSoup(html, 'html.parser')\n",
    "type06 = soup.find('ul',{'class':'type06_headline'})\n",
    "dl = type06.find_all('dl')\n",
    "\n",
    "data = []\n",
    "\n",
    "for item2 in dl:\n",
    "    try:\n",
    "        img = item2.find('dt',{'class':'photo'}).find('img')\n",
    "        src = img['src']        \n",
    "        link = item2.find('dt',{'class':''}).find('a')\n",
    "        href = link['href']\n",
    "        title = link.text.replace('\\t','').replace('\\n','').replace('\\r','')[1:len(link.text)+1]\n",
    "        content=item2.find('dd')\n",
    "        body = content.text.replace('\\t','').replace('\\n','').replace('\\r','').split('…')[0]\n",
    "        \n",
    "        print('img=',src)\n",
    "        print('link=',href)\n",
    "        print('기사제목=',title)\n",
    "        print('기사내용=',body)\n",
    "        print('--------------------------')\n",
    "        \n",
    "        data.append([src, href, title, body])\n",
    "    except:\n",
    "        print('No image')\n",
    "        print('No Content')\n",
    "        print('--------------------------')"
   ]
  },
  {
   "cell_type": "code",
   "execution_count": 17,
   "metadata": {},
   "outputs": [
    {
     "data": {
      "text/plain": [
       "list"
      ]
     },
     "execution_count": 17,
     "metadata": {},
     "output_type": "execute_result"
    }
   ],
   "source": [
    "type(data)"
   ]
  },
  {
   "cell_type": "code",
   "execution_count": 18,
   "metadata": {},
   "outputs": [
    {
     "data": {
      "text/plain": [
       "[['https://imgnews.pstatic.net/image/origin/005/2021/03/19/1422075.jpg?type=nf106_72',\n",
       "  'https://news.naver.com/main/read.nhn?mode=LSD&mid=sec&sid1=001&oid=005&aid=0001422075',\n",
       "  '‘中으로 꺼져’ 한인에 막말한 백인 정체, 전 상원의원 딸',\n",
       "  '맨해튼에서 한국계 미국인 부부에게 “중국으로 꺼져라”등 막말을 한 혐의로 기소된 백인이 알고보니 전 뉴욕 상원의원인 故 대니얼  '],\n",
       " ['https://imgnews.pstatic.net/image/origin/469/2021/03/19/589628.jpg?type=nf106_72',\n",
       "  'https://news.naver.com/main/read.nhn?mode=LSD&mid=sec&sid1=001&oid=469&aid=0000589628',\n",
       "  '아동학대 원장·교사, 자격정지 2년 → 5년',\n",
       "  '앞으로 영유아를 학대해 생명을 해치거나 신체 또는 정신에 중대한 손해를 입힌 어린이집 원장ㆍ보육교사의 자격정지 기준이 기존 2년 '],\n",
       " ['https://imgnews.pstatic.net/image/origin/119/2021/03/19/2477364.jpg?type=nf106_72',\n",
       "  'https://news.naver.com/main/read.nhn?mode=LSD&mid=sec&sid1=001&oid=119&aid=0002477364',\n",
       "  '정부, EDCF-IDB 협조융자 확대 합의',\n",
       "  '정부가 대외경제협력기금(EDCF)과 미주개발은행(IDB) 간 협조융자 한도를 늘리고 협력사업 대상도 민간으로 확대하기로 했다.  '],\n",
       " ['https://imgnews.pstatic.net/image/origin/081/2021/03/19/3172313.jpg?type=nf106_72',\n",
       "  'https://news.naver.com/main/read.nhn?mode=LSD&mid=sec&sid1=001&oid=081&aid=0003172313',\n",
       "  '박형준 “아파트 아들에게서 샀지만 부정, 특혜없어”',\n",
       "  '박형준 국민의힘 부산시장 후보는 19일 “지금 사는 엘시티 아파트는 아들로부터 매입한 것은 사실이지만, 이 사안의 본질은 불법  '],\n",
       " ['https://imgnews.pstatic.net/image/origin/081/2021/03/19/3172312.jpg?type=nf106_72',\n",
       "  'https://news.naver.com/main/read.nhn?mode=LSD&mid=sec&sid1=001&oid=081&aid=0003172312',\n",
       "  '엄교섭 경기도의원, 경기도 지역건설산업 활성화 촉진 조례 개정안 입법예고',\n",
       "  '경기도의회 건설교통위원회 엄교섭 의원(더불어민주당, 용인2)이 19일 지역건설산업 활성화 추진위원회 회의를 활성화하는 내용을 담 '],\n",
       " ['https://imgnews.pstatic.net/image/origin/015/2021/03/19/4516171.jpg?type=nf106_72',\n",
       "  'https://news.naver.com/main/read.nhn?mode=LSD&mid=sec&sid1=001&oid=015&aid=0004516171',\n",
       "  '청 \"행정관 이상 3700명 전수결과 투기거래 없어, 경호처는 의심거래 1건\"',\n",
       "  '청와대는 19일 대통령 비서실 소속 직원과 배우자·직계 가족 3700여명 대상의 3기 신도시 투기여부 조사결과 투기적 거래는 없 '],\n",
       " ['https://imgnews.pstatic.net/image/origin/366/2021/03/19/687421.jpg?type=nf106_72',\n",
       "  'https://news.naver.com/main/read.nhn?mode=LSD&mid=sec&sid1=001&oid=366&aid=0000687421',\n",
       "  \"교촌X뚜레쥬르 '고로케' 출시…할인 쿠폰에 '먹방' 이벤트 진행\",\n",
       "  \"교촌에프앤비가 뚜레쥬르와 협업해 개발한 고로케 출시를 기념해 할인 이벤트를 진행한다고 19일 밝혔다. 교촌은 뚜레쥬르에서 '교촌 \"],\n",
       " ['https://imgnews.pstatic.net/image/origin/366/2021/03/19/687420.jpg?type=nf106_72',\n",
       "  'https://news.naver.com/main/read.nhn?mode=LSD&mid=sec&sid1=001&oid=366&aid=0000687420',\n",
       "  '서울 개포동 개포대치2단지 60㎡ 16억6000만원에 거래',\n",
       "  '[이 기사는 조선비즈와 아티웰스가 공동으로 개발해 서비스하는 로봇 기사입니다.] 국토교통부 실거래가 공개시스템에 따르면 지난 2 ']]"
      ]
     },
     "execution_count": 18,
     "metadata": {},
     "output_type": "execute_result"
    }
   ],
   "source": [
    "data"
   ]
  },
  {
   "cell_type": "code",
   "execution_count": 19,
   "metadata": {},
   "outputs": [],
   "source": [
    "import pandas as pd\n",
    "from pandas import DataFrame, Series"
   ]
  },
  {
   "cell_type": "code",
   "execution_count": 20,
   "metadata": {},
   "outputs": [
    {
     "data": {
      "text/html": [
       "<div>\n",
       "<style scoped>\n",
       "    .dataframe tbody tr th:only-of-type {\n",
       "        vertical-align: middle;\n",
       "    }\n",
       "\n",
       "    .dataframe tbody tr th {\n",
       "        vertical-align: top;\n",
       "    }\n",
       "\n",
       "    .dataframe thead th {\n",
       "        text-align: right;\n",
       "    }\n",
       "</style>\n",
       "<table border=\"1\" class=\"dataframe\">\n",
       "  <thead>\n",
       "    <tr style=\"text-align: right;\">\n",
       "      <th></th>\n",
       "      <th>이미지 링크</th>\n",
       "      <th>기사링크</th>\n",
       "      <th>기사제목</th>\n",
       "      <th>기사 내용</th>\n",
       "    </tr>\n",
       "  </thead>\n",
       "  <tbody>\n",
       "    <tr>\n",
       "      <th>0</th>\n",
       "      <td>https://imgnews.pstatic.net/image/origin/005/2...</td>\n",
       "      <td>https://news.naver.com/main/read.nhn?mode=LSD&amp;...</td>\n",
       "      <td>‘中으로 꺼져’ 한인에 막말한 백인 정체, 전 상원의원 딸</td>\n",
       "      <td>맨해튼에서 한국계 미국인 부부에게 “중국으로 꺼져라”등 막말을 한 혐의로 기소된 백...</td>\n",
       "    </tr>\n",
       "    <tr>\n",
       "      <th>1</th>\n",
       "      <td>https://imgnews.pstatic.net/image/origin/469/2...</td>\n",
       "      <td>https://news.naver.com/main/read.nhn?mode=LSD&amp;...</td>\n",
       "      <td>아동학대 원장·교사, 자격정지 2년 → 5년</td>\n",
       "      <td>앞으로 영유아를 학대해 생명을 해치거나 신체 또는 정신에 중대한 손해를 입힌 어린이...</td>\n",
       "    </tr>\n",
       "    <tr>\n",
       "      <th>2</th>\n",
       "      <td>https://imgnews.pstatic.net/image/origin/119/2...</td>\n",
       "      <td>https://news.naver.com/main/read.nhn?mode=LSD&amp;...</td>\n",
       "      <td>정부, EDCF-IDB 협조융자 확대 합의</td>\n",
       "      <td>정부가 대외경제협력기금(EDCF)과 미주개발은행(IDB) 간 협조융자 한도를 늘리고...</td>\n",
       "    </tr>\n",
       "    <tr>\n",
       "      <th>3</th>\n",
       "      <td>https://imgnews.pstatic.net/image/origin/081/2...</td>\n",
       "      <td>https://news.naver.com/main/read.nhn?mode=LSD&amp;...</td>\n",
       "      <td>박형준 “아파트 아들에게서 샀지만 부정, 특혜없어”</td>\n",
       "      <td>박형준 국민의힘 부산시장 후보는 19일 “지금 사는 엘시티 아파트는 아들로부터 매입...</td>\n",
       "    </tr>\n",
       "    <tr>\n",
       "      <th>4</th>\n",
       "      <td>https://imgnews.pstatic.net/image/origin/081/2...</td>\n",
       "      <td>https://news.naver.com/main/read.nhn?mode=LSD&amp;...</td>\n",
       "      <td>엄교섭 경기도의원, 경기도 지역건설산업 활성화 촉진 조례 개정안 입법예고</td>\n",
       "      <td>경기도의회 건설교통위원회 엄교섭 의원(더불어민주당, 용인2)이 19일 지역건설산업 ...</td>\n",
       "    </tr>\n",
       "    <tr>\n",
       "      <th>5</th>\n",
       "      <td>https://imgnews.pstatic.net/image/origin/015/2...</td>\n",
       "      <td>https://news.naver.com/main/read.nhn?mode=LSD&amp;...</td>\n",
       "      <td>청 \"행정관 이상 3700명 전수결과 투기거래 없어, 경호처는 의심거래 1건\"</td>\n",
       "      <td>청와대는 19일 대통령 비서실 소속 직원과 배우자·직계 가족 3700여명 대상의 3...</td>\n",
       "    </tr>\n",
       "    <tr>\n",
       "      <th>6</th>\n",
       "      <td>https://imgnews.pstatic.net/image/origin/366/2...</td>\n",
       "      <td>https://news.naver.com/main/read.nhn?mode=LSD&amp;...</td>\n",
       "      <td>교촌X뚜레쥬르 '고로케' 출시…할인 쿠폰에 '먹방' 이벤트 진행</td>\n",
       "      <td>교촌에프앤비가 뚜레쥬르와 협업해 개발한 고로케 출시를 기념해 할인 이벤트를 진행한다...</td>\n",
       "    </tr>\n",
       "    <tr>\n",
       "      <th>7</th>\n",
       "      <td>https://imgnews.pstatic.net/image/origin/366/2...</td>\n",
       "      <td>https://news.naver.com/main/read.nhn?mode=LSD&amp;...</td>\n",
       "      <td>서울 개포동 개포대치2단지 60㎡ 16억6000만원에 거래</td>\n",
       "      <td>[이 기사는 조선비즈와 아티웰스가 공동으로 개발해 서비스하는 로봇 기사입니다.] 국...</td>\n",
       "    </tr>\n",
       "  </tbody>\n",
       "</table>\n",
       "</div>"
      ],
      "text/plain": [
       "                                              이미지 링크  \\\n",
       "0  https://imgnews.pstatic.net/image/origin/005/2...   \n",
       "1  https://imgnews.pstatic.net/image/origin/469/2...   \n",
       "2  https://imgnews.pstatic.net/image/origin/119/2...   \n",
       "3  https://imgnews.pstatic.net/image/origin/081/2...   \n",
       "4  https://imgnews.pstatic.net/image/origin/081/2...   \n",
       "5  https://imgnews.pstatic.net/image/origin/015/2...   \n",
       "6  https://imgnews.pstatic.net/image/origin/366/2...   \n",
       "7  https://imgnews.pstatic.net/image/origin/366/2...   \n",
       "\n",
       "                                                기사링크  \\\n",
       "0  https://news.naver.com/main/read.nhn?mode=LSD&...   \n",
       "1  https://news.naver.com/main/read.nhn?mode=LSD&...   \n",
       "2  https://news.naver.com/main/read.nhn?mode=LSD&...   \n",
       "3  https://news.naver.com/main/read.nhn?mode=LSD&...   \n",
       "4  https://news.naver.com/main/read.nhn?mode=LSD&...   \n",
       "5  https://news.naver.com/main/read.nhn?mode=LSD&...   \n",
       "6  https://news.naver.com/main/read.nhn?mode=LSD&...   \n",
       "7  https://news.naver.com/main/read.nhn?mode=LSD&...   \n",
       "\n",
       "                                          기사제목  \\\n",
       "0             ‘中으로 꺼져’ 한인에 막말한 백인 정체, 전 상원의원 딸   \n",
       "1                     아동학대 원장·교사, 자격정지 2년 → 5년   \n",
       "2                      정부, EDCF-IDB 협조융자 확대 합의   \n",
       "3                 박형준 “아파트 아들에게서 샀지만 부정, 특혜없어”   \n",
       "4     엄교섭 경기도의원, 경기도 지역건설산업 활성화 촉진 조례 개정안 입법예고   \n",
       "5  청 \"행정관 이상 3700명 전수결과 투기거래 없어, 경호처는 의심거래 1건\"   \n",
       "6          교촌X뚜레쥬르 '고로케' 출시…할인 쿠폰에 '먹방' 이벤트 진행   \n",
       "7             서울 개포동 개포대치2단지 60㎡ 16억6000만원에 거래   \n",
       "\n",
       "                                               기사 내용  \n",
       "0  맨해튼에서 한국계 미국인 부부에게 “중국으로 꺼져라”등 막말을 한 혐의로 기소된 백...  \n",
       "1  앞으로 영유아를 학대해 생명을 해치거나 신체 또는 정신에 중대한 손해를 입힌 어린이...  \n",
       "2  정부가 대외경제협력기금(EDCF)과 미주개발은행(IDB) 간 협조융자 한도를 늘리고...  \n",
       "3  박형준 국민의힘 부산시장 후보는 19일 “지금 사는 엘시티 아파트는 아들로부터 매입...  \n",
       "4  경기도의회 건설교통위원회 엄교섭 의원(더불어민주당, 용인2)이 19일 지역건설산업 ...  \n",
       "5  청와대는 19일 대통령 비서실 소속 직원과 배우자·직계 가족 3700여명 대상의 3...  \n",
       "6  교촌에프앤비가 뚜레쥬르와 협업해 개발한 고로케 출시를 기념해 할인 이벤트를 진행한다...  \n",
       "7  [이 기사는 조선비즈와 아티웰스가 공동으로 개발해 서비스하는 로봇 기사입니다.] 국...  "
      ]
     },
     "execution_count": 20,
     "metadata": {},
     "output_type": "execute_result"
    }
   ],
   "source": [
    "df=pd.DataFrame(data, columns=['이미지 링크', '기사링크', '기사제목', '기사 내용'])\n",
    "df"
   ]
  },
  {
   "cell_type": "code",
   "execution_count": null,
   "metadata": {},
   "outputs": [],
   "source": []
  },
  {
   "cell_type": "code",
   "execution_count": 21,
   "metadata": {},
   "outputs": [
    {
     "data": {
      "text/plain": [
       "0    https://imgnews.pstatic.net/image/origin/005/2...\n",
       "1    https://imgnews.pstatic.net/image/origin/469/2...\n",
       "2    https://imgnews.pstatic.net/image/origin/119/2...\n",
       "3    https://imgnews.pstatic.net/image/origin/081/2...\n",
       "4    https://imgnews.pstatic.net/image/origin/081/2...\n",
       "5    https://imgnews.pstatic.net/image/origin/015/2...\n",
       "6    https://imgnews.pstatic.net/image/origin/366/2...\n",
       "7    https://imgnews.pstatic.net/image/origin/366/2...\n",
       "Name: 이미지 링크, dtype: object"
      ]
     },
     "execution_count": 21,
     "metadata": {},
     "output_type": "execute_result"
    }
   ],
   "source": [
    "df['이미지 링크']"
   ]
  },
  {
   "cell_type": "code",
   "execution_count": 22,
   "metadata": {},
   "outputs": [],
   "source": [
    "import urllib.request\n",
    "from bs4 import BeautifulSoup"
   ]
  },
  {
   "cell_type": "code",
   "execution_count": 23,
   "metadata": {},
   "outputs": [],
   "source": [
    "#폴더 생성\n",
    "import os\n",
    "\n",
    "def createFolder(directory):\n",
    "    try:\n",
    "        if not os.path.exists(directory):\n",
    "            os.makedirs(directory)\n",
    "    except OSError:\n",
    "        print('Error: Creating Folder')\n",
    "        \n",
    "path = './image'\n",
    "createFolder(path)"
   ]
  },
  {
   "cell_type": "code",
   "execution_count": 24,
   "metadata": {
    "scrolled": true
   },
   "outputs": [
    {
     "name": "stdout",
     "output_type": "stream",
     "text": [
      "https://imgnews.pstatic.net/image/origin/005/2021/03/19/1422075.jpg?type=nf106_72\n",
      "0\n",
      "https://imgnews.pstatic.net/image/origin/469/2021/03/19/589628.jpg?type=nf106_72\n",
      "1\n",
      "https://imgnews.pstatic.net/image/origin/119/2021/03/19/2477364.jpg?type=nf106_72\n",
      "2\n",
      "https://imgnews.pstatic.net/image/origin/081/2021/03/19/3172313.jpg?type=nf106_72\n",
      "3\n",
      "https://imgnews.pstatic.net/image/origin/081/2021/03/19/3172312.jpg?type=nf106_72\n",
      "4\n",
      "https://imgnews.pstatic.net/image/origin/015/2021/03/19/4516171.jpg?type=nf106_72\n",
      "5\n",
      "https://imgnews.pstatic.net/image/origin/366/2021/03/19/687421.jpg?type=nf106_72\n",
      "6\n",
      "https://imgnews.pstatic.net/image/origin/366/2021/03/19/687420.jpg?type=nf106_72\n",
      "7\n"
     ]
    }
   ],
   "source": [
    "imageNum = -1\n",
    "imageStr = \"image/img\"\n",
    "\n",
    "#urllib.request.urlretrieve(url, down_filename)\n",
    "\n",
    "for i in range(0,len(df['이미지 링크'])):\n",
    "    imageNum += 1\n",
    "    imgURL = df['이미지 링크'][i]\n",
    "    urllib.request.urlretrieve(imgURL,imageStr + str(imageNum) + \".jpg\")\n",
    "    print(imgURL)\n",
    "    print(imageNum)"
   ]
  },
  {
   "cell_type": "code",
   "execution_count": null,
   "metadata": {},
   "outputs": [],
   "source": []
  },
  {
   "cell_type": "markdown",
   "metadata": {},
   "source": [
    "### 추가 이미지 이름 생성 과정"
   ]
  },
  {
   "cell_type": "code",
   "execution_count": 12,
   "metadata": {},
   "outputs": [
    {
     "data": {
      "text/plain": [
       "'https://imgnews.pstatic.net/image/origin/366/2021/03/16/685419.jpg?type=nf106_72'"
      ]
     },
     "execution_count": 12,
     "metadata": {},
     "output_type": "execute_result"
    }
   ],
   "source": [
    "df.iloc[0,0]"
   ]
  },
  {
   "cell_type": "code",
   "execution_count": 13,
   "metadata": {},
   "outputs": [
    {
     "data": {
      "text/plain": [
       "['https://imgnews.pstatic.net/image/origin/366/2021/03/16/685419.jpg',\n",
       " 'type=nf106_72']"
      ]
     },
     "execution_count": 13,
     "metadata": {},
     "output_type": "execute_result"
    }
   ],
   "source": [
    "df.iloc[0,0].split('?')"
   ]
  },
  {
   "cell_type": "code",
   "execution_count": 14,
   "metadata": {},
   "outputs": [
    {
     "data": {
      "text/plain": [
       "'https://imgnews.pstatic.net/image/origin/366/2021/03/16/685419.jpg'"
      ]
     },
     "execution_count": 14,
     "metadata": {},
     "output_type": "execute_result"
    }
   ],
   "source": [
    "#다운로드받을 url 주소\n",
    "img_url = df.iloc[0,0].split('?')[0]\n",
    "img_url"
   ]
  },
  {
   "cell_type": "code",
   "execution_count": 15,
   "metadata": {},
   "outputs": [
    {
     "data": {
      "text/plain": [
       "['https:',\n",
       " '',\n",
       " 'imgnews.pstatic.net',\n",
       " 'image',\n",
       " 'origin',\n",
       " '366',\n",
       " '2021',\n",
       " '03',\n",
       " '16',\n",
       " '685419.jpg']"
      ]
     },
     "execution_count": 15,
     "metadata": {},
     "output_type": "execute_result"
    }
   ],
   "source": [
    "#다운로드받을 이미지 이름\n",
    "df.iloc[0,0].split('?')[0].split('/')"
   ]
  },
  {
   "cell_type": "code",
   "execution_count": 16,
   "metadata": {},
   "outputs": [
    {
     "data": {
      "text/plain": [
       "'685419.jpg'"
      ]
     },
     "execution_count": 16,
     "metadata": {},
     "output_type": "execute_result"
    }
   ],
   "source": [
    "img_name = img_url.split('/')[-1]\n",
    "img_name"
   ]
  },
  {
   "cell_type": "code",
   "execution_count": 17,
   "metadata": {},
   "outputs": [
    {
     "data": {
      "text/plain": [
       "'./image/685419.jpg'"
      ]
     },
     "execution_count": 17,
     "metadata": {},
     "output_type": "execute_result"
    }
   ],
   "source": [
    "down_filename = './image/' + img_name\n",
    "down_filename"
   ]
  },
  {
   "cell_type": "code",
   "execution_count": null,
   "metadata": {},
   "outputs": [],
   "source": []
  }
 ],
 "metadata": {
  "kernelspec": {
   "display_name": "Python 3",
   "language": "python",
   "name": "python3"
  },
  "language_info": {
   "codemirror_mode": {
    "name": "ipython",
    "version": 3
   },
   "file_extension": ".py",
   "mimetype": "text/x-python",
   "name": "python",
   "nbconvert_exporter": "python",
   "pygments_lexer": "ipython3",
   "version": "3.8.5"
  }
 },
 "nbformat": 4,
 "nbformat_minor": 4
}
