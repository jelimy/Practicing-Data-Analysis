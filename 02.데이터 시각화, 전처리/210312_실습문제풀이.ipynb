{
 "cells": [
  {
   "cell_type": "markdown",
   "metadata": {},
   "source": [
    "### 실습1\n",
    "- 6개 원소 [1,9,'one','two',3,'three']를 갖는 val을 만들고, 마지막 원소를 자기 이름으로 바꾼다.\n",
    "- 4번째 인덱스를 갖는 원소와 리스트의 첫번째 문자열 데이터를 출력하시오"
   ]
  },
  {
   "cell_type": "code",
   "execution_count": 1,
   "metadata": {},
   "outputs": [
    {
     "data": {
      "text/plain": [
       "[1, 9, 'one', 'two', 3, 'three']"
      ]
     },
     "execution_count": 1,
     "metadata": {},
     "output_type": "execute_result"
    }
   ],
   "source": [
    "val= [1,9,'one','two',3,'three']\n",
    "val"
   ]
  },
  {
   "cell_type": "code",
   "execution_count": 2,
   "metadata": {},
   "outputs": [
    {
     "data": {
      "text/plain": [
       "[1, 9, 'one', 'two', 3, 'Su']"
      ]
     },
     "execution_count": 2,
     "metadata": {},
     "output_type": "execute_result"
    }
   ],
   "source": [
    "val[-1]='Su'\n",
    "val"
   ]
  },
  {
   "cell_type": "code",
   "execution_count": 3,
   "metadata": {},
   "outputs": [
    {
     "name": "stdout",
     "output_type": "stream",
     "text": [
      "index -4 = one\n"
     ]
    }
   ],
   "source": [
    "print('index -4 =', val[-4])"
   ]
  },
  {
   "cell_type": "code",
   "execution_count": 4,
   "metadata": {},
   "outputs": [
    {
     "name": "stdout",
     "output_type": "stream",
     "text": [
      "one\n"
     ]
    }
   ],
   "source": [
    "for i in range(len(val)):\n",
    "    if type(val[i])==str:\n",
    "        print(val[i])\n",
    "        break"
   ]
  },
  {
   "cell_type": "code",
   "execution_count": 7,
   "metadata": {},
   "outputs": [
    {
     "name": "stdout",
     "output_type": "stream",
     "text": [
      "첫번째 문자열 = one\n"
     ]
    }
   ],
   "source": [
    "##예시 답변\n",
    "for i in range(len(val)):\n",
    "    if type(val[i])==str:\n",
    "        first_str_index = i\n",
    "        break\n",
    "\n",
    "print('첫번째 문자열 =', val[first_str_index])"
   ]
  },
  {
   "cell_type": "code",
   "execution_count": null,
   "metadata": {},
   "outputs": [],
   "source": []
  },
  {
   "cell_type": "markdown",
   "metadata": {},
   "source": [
    "### 실습2\n",
    "- 7,2,1,8,9,10의 6개 숫자를 리스트 변수에 저장하고, 가장 큰 수를 찾는 알고리즘을 작성하시오."
   ]
  },
  {
   "cell_type": "code",
   "execution_count": 9,
   "metadata": {},
   "outputs": [
    {
     "data": {
      "text/plain": [
       "[7, 2, 1, 8, 9, 10]"
      ]
     },
     "execution_count": 9,
     "metadata": {},
     "output_type": "execute_result"
    }
   ],
   "source": [
    "a= [7,2,1,8,9,10]\n",
    "a"
   ]
  },
  {
   "cell_type": "code",
   "execution_count": 10,
   "metadata": {},
   "outputs": [
    {
     "data": {
      "text/plain": [
       "10"
      ]
     },
     "execution_count": 10,
     "metadata": {},
     "output_type": "execute_result"
    }
   ],
   "source": [
    "max(a)"
   ]
  },
  {
   "cell_type": "code",
   "execution_count": 13,
   "metadata": {},
   "outputs": [
    {
     "name": "stdout",
     "output_type": "stream",
     "text": [
      "가장 큰 수 = 10\n"
     ]
    }
   ],
   "source": [
    "##예시 답변 >>> 수가 몇 개가 되어도 답을 낼 수 있는 함수식을 만들어야 함.\n",
    "data = [7,2,1,8,9,10]\n",
    "\n",
    "maxvalue = data[0]\n",
    "\n",
    "for i in range(1, len(data)):\n",
    "    if maxvalue < data[i]:\n",
    "        maxvalue = data[i]\n",
    "        \n",
    "print('가장 큰 수 =', maxvalue)"
   ]
  },
  {
   "cell_type": "code",
   "execution_count": null,
   "metadata": {},
   "outputs": [],
   "source": []
  }
 ],
 "metadata": {
  "kernelspec": {
   "display_name": "Python 3",
   "language": "python",
   "name": "python3"
  },
  "language_info": {
   "codemirror_mode": {
    "name": "ipython",
    "version": 3
   },
   "file_extension": ".py",
   "mimetype": "text/x-python",
   "name": "python",
   "nbconvert_exporter": "python",
   "pygments_lexer": "ipython3",
   "version": "3.8.5"
  }
 },
 "nbformat": 4,
 "nbformat_minor": 4
}
